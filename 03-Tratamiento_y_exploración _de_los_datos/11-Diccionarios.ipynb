{
 "cells": [
  {
   "cell_type": "markdown",
   "id": "b5cb4440",
   "metadata": {},
   "source": [
    "># Crear y accesar a los diccionarios"
   ]
  },
  {
   "cell_type": "markdown",
   "id": "7a8eb119",
   "metadata": {},
   "source": [
    "## Objetivos\n",
    "\n",
    "- Aprender a crear diccionarios con pares llaves-valor\n",
    "- Aprender a accesar a los valores guardados en el diccionario\n",
    "\n",
    "## Desarollo:\n",
    "\n",
    "Los diccionarios se definen usando (`{}`)"
   ]
  },
  {
   "cell_type": "code",
   "execution_count": 1,
   "id": "ab6606e1",
   "metadata": {},
   "outputs": [],
   "source": [
    "diccionario_1 = {}"
   ]
  },
  {
   "cell_type": "markdown",
   "id": "5e305511",
   "metadata": {},
   "source": [
    "diccionario_1 ya es un diccionario, solo que está vacío. Para incluir datos dentro de un diccionario tenemos que agregar pares llave-valor dentro de las llaves ({}). Cada par llave-valor se separa con una (,):"
   ]
  },
  {
   "cell_type": "code",
   "execution_count": 2,
   "id": "73a867ed",
   "metadata": {},
   "outputs": [],
   "source": [
    "diccionario_2 = {\n",
    "    \"llave_1\":\"valor_1\",\n",
    "    'llave_2':'valor_2',\n",
    "    'llave_3':'valor_3',\n",
    "    'llave_4':'valor_4'\n",
    "}"
   ]
  },
  {
   "cell_type": "markdown",
   "id": "74fb3b1d",
   "metadata": {},
   "source": [
    "Nuestras llaves pueden ser `String` como `int` (pueden ser otras cosas pero estos son los mas comúnes)"
   ]
  },
  {
   "cell_type": "code",
   "execution_count": 4,
   "id": "0d44d065",
   "metadata": {},
   "outputs": [],
   "source": [
    "diccionario_3 = {\n",
    "    1: 'uno',\n",
    "    2: 'dos',\n",
    "    3: 'tres',\n",
    "    4: 'cuatro'\n",
    "}"
   ]
  },
  {
   "cell_type": "markdown",
   "id": "8e2896d3",
   "metadata": {},
   "source": [
    "Nuestros valores pueden ser cualquier tipo de dato que se conozca hasta este momento."
   ]
  },
  {
   "cell_type": "code",
   "execution_count": 5,
   "id": "8790f95d",
   "metadata": {},
   "outputs": [],
   "source": [
    "diccionario_4 = {\n",
    "    'int': 123,\n",
    "    'float': 23.56,\n",
    "    'string':\"Hola\",\n",
    "    'boolean': True,\n",
    "    'lista': [1,2,3,4],\n",
    "    'diccionario': {\n",
    "        1: \"uno\",\n",
    "        2: \"dos\"\n",
    "    }\n",
    "}"
   ]
  },
  {
   "cell_type": "markdown",
   "id": "9f611df8",
   "metadata": {},
   "source": [
    "Acceder a un diccionario es tan fácil como escribir el nombre del diccionario, se agregan corchetes `[]` y pasarle el nombre de la llave (o clave) que quieres acceder. Por obvias razones, un diccionario no puede tener mas de una llave con el mismo nombre. Si tenemos otras estructuras de datos dentro de nuestro diccionario, podemos acceder a los elementos dentro de ellas después de haber accedido primero a toda la estrunctura de datos:"
   ]
  },
  {
   "cell_type": "code",
   "execution_count": 7,
   "id": "87450a38",
   "metadata": {},
   "outputs": [
    {
     "name": "stdout",
     "output_type": "stream",
     "text": [
      "23.56\n"
     ]
    }
   ],
   "source": [
    "print(diccionario_4['float'])"
   ]
  },
  {
   "cell_type": "code",
   "execution_count": 8,
   "id": "1d061f97",
   "metadata": {},
   "outputs": [
    {
     "name": "stdout",
     "output_type": "stream",
     "text": [
      "True\n"
     ]
    }
   ],
   "source": [
    "print(diccionario_4['boolean'])"
   ]
  },
  {
   "cell_type": "code",
   "execution_count": 14,
   "id": "e6b98483",
   "metadata": {},
   "outputs": [
    {
     "name": "stdout",
     "output_type": "stream",
     "text": [
      "3\n",
      "uno\n"
     ]
    }
   ],
   "source": [
    "print(diccionario_4['lista'][2])\n",
    "print(diccionario_4['diccionario'][1])"
   ]
  }
 ],
 "metadata": {
  "kernelspec": {
   "display_name": "Python 3",
   "language": "python",
   "name": "python3"
  },
  "language_info": {
   "codemirror_mode": {
    "name": "ipython",
    "version": 3
   },
   "file_extension": ".py",
   "mimetype": "text/x-python",
   "name": "python",
   "nbconvert_exporter": "python",
   "pygments_lexer": "ipython3",
   "version": "3.13.3"
  }
 },
 "nbformat": 4,
 "nbformat_minor": 5
}
