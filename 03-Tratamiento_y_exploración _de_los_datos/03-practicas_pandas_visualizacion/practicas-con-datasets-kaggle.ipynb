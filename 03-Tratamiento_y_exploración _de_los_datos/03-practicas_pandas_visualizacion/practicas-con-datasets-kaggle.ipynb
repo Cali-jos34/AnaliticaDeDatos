{
 "cells": [
  {
   "cell_type": "markdown",
   "id": "72d21b06",
   "metadata": {},
   "source": [
    "# 🧪 Prácticas por Dataset de Kaggle"
   ]
  },
  {
   "cell_type": "markdown",
   "id": "a6eb189a",
   "metadata": {},
   "source": [
    "## 🛍️ Retail Sales Dataset"
   ]
  },
  {
   "cell_type": "markdown",
   "id": "02061b7c",
   "metadata": {},
   "source": [
    "🔗 Dataset disponible en: [https://www.kaggle.com/datasets/mohammadtalib786/retail-sales-dataset?utm_source=chatgpt.com](https://www.kaggle.com/datasets/mohammadtalib786/retail-sales-dataset?utm_source=chatgpt.com)"
   ]
  },
  {
   "cell_type": "code",
   "execution_count": 1,
   "id": "70b843d0",
   "metadata": {},
   "outputs": [],
   "source": [
    "import pandas as pd"
   ]
  },
  {
   "cell_type": "code",
   "execution_count": 12,
   "id": "5560707d",
   "metadata": {},
   "outputs": [
    {
     "data": {
      "text/plain": [
       "<bound method NDFrame.describe of      Transaction ID        Date Customer ID  Gender  Age Product Category  \\\n",
       "0                 1  2023-11-24     CUST001    Male   34           Beauty   \n",
       "1                 2  2023-02-27     CUST002  Female   26         Clothing   \n",
       "2                 3  2023-01-13     CUST003    Male   50      Electronics   \n",
       "3                 4  2023-05-21     CUST004    Male   37         Clothing   \n",
       "4                 5  2023-05-06     CUST005    Male   30           Beauty   \n",
       "..              ...         ...         ...     ...  ...              ...   \n",
       "995             996  2023-05-16     CUST996    Male   62         Clothing   \n",
       "996             997  2023-11-17     CUST997    Male   52           Beauty   \n",
       "997             998  2023-10-29     CUST998  Female   23           Beauty   \n",
       "998             999  2023-12-05     CUST999  Female   36      Electronics   \n",
       "999            1000  2023-04-12    CUST1000    Male   47      Electronics   \n",
       "\n",
       "     Quantity  Price per Unit  Total Amount  \n",
       "0           3              50           150  \n",
       "1           2             500          1000  \n",
       "2           1              30            30  \n",
       "3           1             500           500  \n",
       "4           2              50           100  \n",
       "..        ...             ...           ...  \n",
       "995         1              50            50  \n",
       "996         3              30            90  \n",
       "997         4              25           100  \n",
       "998         3              50           150  \n",
       "999         4              30           120  \n",
       "\n",
       "[1000 rows x 9 columns]>"
      ]
     },
     "execution_count": 12,
     "metadata": {},
     "output_type": "execute_result"
    }
   ],
   "source": [
    "RSD.describe"
   ]
  },
  {
   "cell_type": "markdown",
   "id": "96599d3f",
   "metadata": {},
   "source": [
    "**Pregunta:** ¿Cuántas filas y columnas tiene el dataset?"
   ]
  },
  {
   "cell_type": "code",
   "execution_count": 4,
   "id": "37531725",
   "metadata": {},
   "outputs": [
    {
     "data": {
      "text/plain": [
       "(1000, 9)"
      ]
     },
     "execution_count": 4,
     "metadata": {},
     "output_type": "execute_result"
    }
   ],
   "source": [
    "RSD = pd.read_csv('./DataSets/retail_sales_dataset.csv')\n",
    "# Tu código aquí\n",
    "\n",
    "RSD.shape"
   ]
  },
  {
   "cell_type": "markdown",
   "id": "e07757d0",
   "metadata": {},
   "source": [
    "**Pregunta:** ¿Cuáles son los tipos de datos de cada columna?"
   ]
  },
  {
   "cell_type": "code",
   "execution_count": 11,
   "id": "bffb05e9",
   "metadata": {},
   "outputs": [
    {
     "data": {
      "text/plain": [
       "Transaction ID       int64\n",
       "Date                object\n",
       "Customer ID         object\n",
       "Gender              object\n",
       "Age                  int64\n",
       "Product Category    object\n",
       "Quantity             int64\n",
       "Price per Unit       int64\n",
       "Total Amount         int64\n",
       "dtype: object"
      ]
     },
     "execution_count": 11,
     "metadata": {},
     "output_type": "execute_result"
    }
   ],
   "source": [
    "# Tu código aquí\n",
    "RSD.dtypes"
   ]
  },
  {
   "cell_type": "markdown",
   "id": "6630efce",
   "metadata": {},
   "source": [
    "**Pregunta:** ¿Qué productos tienen mayores ventas en cantidad?"
   ]
  },
  {
   "cell_type": "code",
   "execution_count": 25,
   "id": "b131e104",
   "metadata": {},
   "outputs": [
    {
     "data": {
      "text/html": [
       "<div>\n",
       "<style scoped>\n",
       "    .dataframe tbody tr th:only-of-type {\n",
       "        vertical-align: middle;\n",
       "    }\n",
       "\n",
       "    .dataframe tbody tr th {\n",
       "        vertical-align: top;\n",
       "    }\n",
       "\n",
       "    .dataframe thead th {\n",
       "        text-align: right;\n",
       "    }\n",
       "</style>\n",
       "<table border=\"1\" class=\"dataframe\">\n",
       "  <thead>\n",
       "    <tr style=\"text-align: right;\">\n",
       "      <th></th>\n",
       "      <th>Product Category</th>\n",
       "      <th>Quantity</th>\n",
       "    </tr>\n",
       "  </thead>\n",
       "  <tbody>\n",
       "    <tr>\n",
       "      <th>7</th>\n",
       "      <td>Electronics</td>\n",
       "      <td>4</td>\n",
       "    </tr>\n",
       "    <tr>\n",
       "      <th>999</th>\n",
       "      <td>Electronics</td>\n",
       "      <td>4</td>\n",
       "    </tr>\n",
       "    <tr>\n",
       "      <th>9</th>\n",
       "      <td>Clothing</td>\n",
       "      <td>4</td>\n",
       "    </tr>\n",
       "    <tr>\n",
       "      <th>13</th>\n",
       "      <td>Clothing</td>\n",
       "      <td>4</td>\n",
       "    </tr>\n",
       "    <tr>\n",
       "      <th>512</th>\n",
       "      <td>Electronics</td>\n",
       "      <td>4</td>\n",
       "    </tr>\n",
       "  </tbody>\n",
       "</table>\n",
       "</div>"
      ],
      "text/plain": [
       "    Product Category  Quantity\n",
       "7        Electronics         4\n",
       "999      Electronics         4\n",
       "9           Clothing         4\n",
       "13          Clothing         4\n",
       "512      Electronics         4"
      ]
     },
     "execution_count": 25,
     "metadata": {},
     "output_type": "execute_result"
    }
   ],
   "source": [
    "# Tu código aquí\n",
    "# RSD.pivot_table(values='Quantity', index='Product Category').sort_values(by='Quantity', ascending=False)\n",
    "\n",
    "top_productos = RSD[['Product Category', 'Quantity']].sort_values(by='Quantity', ascending=False)\n",
    "top_productos.head()\n"
   ]
  },
  {
   "cell_type": "markdown",
   "id": "43679905",
   "metadata": {},
   "source": [
    "**Pregunta:** ¿Qué tiendas venden más productos?"
   ]
  },
  {
   "cell_type": "code",
   "execution_count": 27,
   "id": "84090e4f",
   "metadata": {},
   "outputs": [
    {
     "data": {
      "text/html": [
       "<div>\n",
       "<style scoped>\n",
       "    .dataframe tbody tr th:only-of-type {\n",
       "        vertical-align: middle;\n",
       "    }\n",
       "\n",
       "    .dataframe tbody tr th {\n",
       "        vertical-align: top;\n",
       "    }\n",
       "\n",
       "    .dataframe thead th {\n",
       "        text-align: right;\n",
       "    }\n",
       "</style>\n",
       "<table border=\"1\" class=\"dataframe\">\n",
       "  <thead>\n",
       "    <tr style=\"text-align: right;\">\n",
       "      <th></th>\n",
       "      <th>Product Category</th>\n",
       "      <th>Quantity</th>\n",
       "    </tr>\n",
       "  </thead>\n",
       "  <tbody>\n",
       "    <tr>\n",
       "      <th>7</th>\n",
       "      <td>Electronics</td>\n",
       "      <td>4</td>\n",
       "    </tr>\n",
       "    <tr>\n",
       "      <th>999</th>\n",
       "      <td>Electronics</td>\n",
       "      <td>4</td>\n",
       "    </tr>\n",
       "    <tr>\n",
       "      <th>9</th>\n",
       "      <td>Clothing</td>\n",
       "      <td>4</td>\n",
       "    </tr>\n",
       "    <tr>\n",
       "      <th>13</th>\n",
       "      <td>Clothing</td>\n",
       "      <td>4</td>\n",
       "    </tr>\n",
       "    <tr>\n",
       "      <th>512</th>\n",
       "      <td>Electronics</td>\n",
       "      <td>4</td>\n",
       "    </tr>\n",
       "  </tbody>\n",
       "</table>\n",
       "</div>"
      ],
      "text/plain": [
       "    Product Category  Quantity\n",
       "7        Electronics         4\n",
       "999      Electronics         4\n",
       "9           Clothing         4\n",
       "13          Clothing         4\n",
       "512      Electronics         4"
      ]
     },
     "execution_count": 27,
     "metadata": {},
     "output_type": "execute_result"
    }
   ],
   "source": [
    "# Tu código aquí\n",
    "top_tiendas = RSD[['Product Category', 'Quantity']].sort_values(by='Quantity', ascending=False)\n",
    "top_tiendas.head()"
   ]
  },
  {
   "cell_type": "markdown",
   "id": "24c5fba1",
   "metadata": {},
   "source": [
    "**Pregunta:** ¿Existen datos faltantes o duplicados?"
   ]
  },
  {
   "cell_type": "code",
   "execution_count": 30,
   "id": "1e6f51e5",
   "metadata": {},
   "outputs": [
    {
     "data": {
      "text/plain": [
       "Transaction ID      0\n",
       "Date                0\n",
       "Customer ID         0\n",
       "Gender              0\n",
       "Age                 0\n",
       "Product Category    0\n",
       "Quantity            0\n",
       "Price per Unit      0\n",
       "Total Amount        0\n",
       "dtype: int64"
      ]
     },
     "execution_count": 30,
     "metadata": {},
     "output_type": "execute_result"
    }
   ],
   "source": [
    "# Tu código aquí\n",
    "\n",
    "RSD.isnull().sum()"
   ]
  },
  {
   "cell_type": "code",
   "execution_count": 31,
   "id": "3f134a91",
   "metadata": {},
   "outputs": [
    {
     "data": {
      "text/plain": [
       "np.int64(0)"
      ]
     },
     "execution_count": 31,
     "metadata": {},
     "output_type": "execute_result"
    }
   ],
   "source": [
    "RSD.duplicated().sum()"
   ]
  },
  {
   "cell_type": "markdown",
   "id": "5a5ab1bf",
   "metadata": {},
   "source": [
    "**Pregunta:** ¿Cuál es el ingreso total por tienda?"
   ]
  },
  {
   "cell_type": "code",
   "execution_count": 32,
   "id": "800fd9c4",
   "metadata": {},
   "outputs": [
    {
     "data": {
      "text/plain": [
       "Product Category\n",
       "Beauty         143515\n",
       "Clothing       155580\n",
       "Electronics    156905\n",
       "Name: Total Amount, dtype: int64"
      ]
     },
     "execution_count": 32,
     "metadata": {},
     "output_type": "execute_result"
    }
   ],
   "source": [
    "# Tu código aquí\n",
    "\n",
    "RSD.groupby('Product Category')['Total Amount'].sum()"
   ]
  },
  {
   "cell_type": "markdown",
   "id": "59869563",
   "metadata": {},
   "source": [
    "**Pregunta:** Agrupa las ventas por tipo de producto y encuentra la media de precios."
   ]
  },
  {
   "cell_type": "code",
   "execution_count": 33,
   "id": "877429e9",
   "metadata": {},
   "outputs": [
    {
     "data": {
      "text/plain": [
       "Product Category\n",
       "Beauty         184.055375\n",
       "Clothing       174.287749\n",
       "Electronics    181.900585\n",
       "Name: Price per Unit, dtype: float64"
      ]
     },
     "execution_count": 33,
     "metadata": {},
     "output_type": "execute_result"
    }
   ],
   "source": [
    "# Tu código aquí\n",
    "RSD.groupby('Product Category')['Price per Unit'].mean()"
   ]
  },
  {
   "cell_type": "markdown",
   "id": "de016c86",
   "metadata": {},
   "source": [
    "**Pregunta:** Crea una nueva columna llamada `ingreso_total` que sea precio * cantidad."
   ]
  },
  {
   "cell_type": "code",
   "execution_count": null,
   "id": "5154805b",
   "metadata": {},
   "outputs": [],
   "source": [
    "# Tu código aquí\n",
    "RSD['ingreso_total']= RSD['Price per Unit'] * RSD['Quantity']"
   ]
  },
  {
   "cell_type": "markdown",
   "id": "f370183a",
   "metadata": {},
   "source": [
    "**Pregunta:** Usa una tabla dinámica para comparar ingresos por tienda y por producto."
   ]
  },
  {
   "cell_type": "code",
   "execution_count": 37,
   "id": "9e76f6c2",
   "metadata": {},
   "outputs": [
    {
     "data": {
      "text/html": [
       "<div>\n",
       "<style scoped>\n",
       "    .dataframe tbody tr th:only-of-type {\n",
       "        vertical-align: middle;\n",
       "    }\n",
       "\n",
       "    .dataframe tbody tr th {\n",
       "        vertical-align: top;\n",
       "    }\n",
       "\n",
       "    .dataframe thead th {\n",
       "        text-align: right;\n",
       "    }\n",
       "</style>\n",
       "<table border=\"1\" class=\"dataframe\">\n",
       "  <thead>\n",
       "    <tr style=\"text-align: right;\">\n",
       "      <th></th>\n",
       "      <th>Total Amount</th>\n",
       "    </tr>\n",
       "    <tr>\n",
       "      <th>Product Category</th>\n",
       "      <th></th>\n",
       "    </tr>\n",
       "  </thead>\n",
       "  <tbody>\n",
       "    <tr>\n",
       "      <th>Beauty</th>\n",
       "      <td>143515</td>\n",
       "    </tr>\n",
       "    <tr>\n",
       "      <th>Clothing</th>\n",
       "      <td>155580</td>\n",
       "    </tr>\n",
       "    <tr>\n",
       "      <th>Electronics</th>\n",
       "      <td>156905</td>\n",
       "    </tr>\n",
       "  </tbody>\n",
       "</table>\n",
       "</div>"
      ],
      "text/plain": [
       "                  Total Amount\n",
       "Product Category              \n",
       "Beauty                  143515\n",
       "Clothing                155580\n",
       "Electronics             156905"
      ]
     },
     "execution_count": 37,
     "metadata": {},
     "output_type": "execute_result"
    }
   ],
   "source": [
    "# Tu código aquí\n",
    "\n",
    "pd.pivot_table(RSD, values='Total Amount', index='Product Category', aggfunc='sum')\n"
   ]
  },
  {
   "cell_type": "markdown",
   "id": "2edf618c",
   "metadata": {},
   "source": [
    "## 📈 Dummy Advertising and Sales Data"
   ]
  },
  {
   "cell_type": "markdown",
   "id": "26a5c26d",
   "metadata": {},
   "source": [
    "🔗 Dataset disponible en: [https://www.kaggle.com/datasets/harrimansaragih/dummy-advertising-and-sales-data?utm_source=chatgpt.com](https://www.kaggle.com/datasets/harrimansaragih/dummy-advertising-and-sales-data?utm_source=chatgpt.com)"
   ]
  },
  {
   "cell_type": "markdown",
   "id": "ad70e47d",
   "metadata": {},
   "source": [
    "**Pregunta:** ¿Cuál es el gasto promedio en publicidad por canal (TV, Radio, Periódico)?"
   ]
  },
  {
   "cell_type": "code",
   "execution_count": 41,
   "id": "a1bb9a59",
   "metadata": {},
   "outputs": [
    {
     "name": "stdout",
     "output_type": "stream",
     "text": [
      "TV              54.066857\n",
      "Radio           18.160356\n",
      "Social Media     3.323956\n",
      "dtype: float64\n"
     ]
    }
   ],
   "source": [
    "d= pd.read_csv('./DataSets/Dummy_Data_HSS.csv')\n",
    "\n",
    "# Tu código aquí\n",
    "\n",
    "gasto = d[['TV', 'Radio', 'Social Media']].mean()\n",
    "print(gasto)"
   ]
  },
  {
   "cell_type": "markdown",
   "id": "e7fea9b5",
   "metadata": {},
   "source": [
    "**Pregunta:** ¿Existe correlación entre el presupuesto publicitario y las ventas?"
   ]
  },
  {
   "cell_type": "code",
   "execution_count": 43,
   "id": "7c7b12a7",
   "metadata": {},
   "outputs": [
    {
     "name": "stdout",
     "output_type": "stream",
     "text": [
      "                    TV     Radio  Social Media     Sales\n",
      "TV            1.000000  0.869460      0.528168  0.999497\n",
      "Radio         0.869460  1.000000      0.607452  0.869105\n",
      "Social Media  0.528168  0.607452      1.000000  0.528906\n",
      "Sales         0.999497  0.869105      0.528906  1.000000\n"
     ]
    }
   ],
   "source": [
    "# Tu código aquí\n",
    "C = d[['TV', 'Radio', 'Social Media', 'Sales']].corr()\n",
    "print(C)"
   ]
  },
  {
   "cell_type": "markdown",
   "id": "8bee9c70",
   "metadata": {},
   "source": [
    "**Pregunta:** ¿Qué campañas tienen ventas superiores a la media?"
   ]
  },
  {
   "cell_type": "code",
   "execution_count": 44,
   "id": "dc35b9fc",
   "metadata": {},
   "outputs": [
    {
     "name": "stdout",
     "output_type": "stream",
     "text": [
      "        TV      Radio  Social Media Influencer       Sales\n",
      "3     83.0  30.020028      6.922304       Mega  298.246340\n",
      "6     55.0  24.893811      4.273602      Micro  198.679825\n",
      "8     76.0  24.648898      7.130116      Macro  270.189400\n",
      "10    62.0  24.345189      5.151483       Nano  224.961019\n",
      "12    64.0  20.240424      3.921148      Micro  229.632381\n",
      "...    ...        ...           ...        ...         ...\n",
      "4561  60.0  21.841864      5.092528      Macro  210.680016\n",
      "4563  93.0  25.285149      2.805840      Macro  327.466288\n",
      "4564  99.0  36.024174      4.288755      Macro  355.807121\n",
      "4568  71.0  20.610685      6.545573       Nano  249.101915\n",
      "4570  71.0  17.534640      1.940873      Macro  253.610411\n",
      "\n",
      "[2239 rows x 5 columns]\n"
     ]
    }
   ],
   "source": [
    "# Tu código aquí\n",
    "\n",
    "ventasM = d['Sales'].mean()\n",
    "cam = d[d['Sales'] > ventasM]\n",
    "print(cam)"
   ]
  },
  {
   "cell_type": "markdown",
   "id": "e0057c81",
   "metadata": {},
   "source": [
    "**Pregunta:** Filtra las campañas con publicidad en TV > 200 y Radio > 20."
   ]
  },
  {
   "cell_type": "code",
   "execution_count": 45,
   "id": "79fec181",
   "metadata": {},
   "outputs": [
    {
     "name": "stdout",
     "output_type": "stream",
     "text": [
      "Empty DataFrame\n",
      "Columns: [TV, Radio, Social Media, Influencer, Sales]\n",
      "Index: []\n"
     ]
    }
   ],
   "source": [
    "# Tu código aquí\n",
    "Fcam = d[(d['TV'] > 200) & (d['Radio'] > 20)]\n",
    "print(Fcam)"
   ]
  },
  {
   "cell_type": "markdown",
   "id": "fb4bd8b6",
   "metadata": {},
   "source": [
    "**Pregunta:** Agrupa por canal publicitario y calcula la media de ventas."
   ]
  },
  {
   "cell_type": "code",
   "execution_count": 46,
   "id": "0e0d6662",
   "metadata": {},
   "outputs": [
    {
     "name": "stdout",
     "output_type": "stream",
     "text": [
      "Influencer\n",
      "Macro    195.613601\n",
      "Mega     190.593666\n",
      "Micro    191.809095\n",
      "Nano     191.934304\n",
      "Name: Sales, dtype: float64\n"
     ]
    }
   ],
   "source": [
    "# Tu código aquí\n",
    "mv = d.groupby('Influencer')['Sales'].mean()\n",
    "print(mv)"
   ]
  },
  {
   "cell_type": "markdown",
   "id": "33653619",
   "metadata": {},
   "source": [
    "**Pregunta:** Crea una columna de ROI estimado usando una fórmula simple."
   ]
  },
  {
   "cell_type": "code",
   "execution_count": 47,
   "id": "054ad8d4",
   "metadata": {},
   "outputs": [
    {
     "name": "stdout",
     "output_type": "stream",
     "text": [
      "        Sales  Gasto Total       ROI\n",
      "0   54.732757    25.474214  1.148555\n",
      "1   46.677897    24.647332  0.893832\n",
      "2  150.177829    59.799856  1.511341\n",
      "3  298.246340   119.942332  1.486581\n",
      "4   56.594181    24.843406  1.278036\n"
     ]
    }
   ],
   "source": [
    "# Tu código aquí\n",
    "d['Gasto Total'] = d['TV'] + d['Radio'] + d['Social Media']\n",
    "d['ROI'] = (d['Sales'] - d['Gasto Total']) / d['Gasto Total']\n",
    "print(d[['Sales', 'Gasto Total', 'ROI']].head())"
   ]
  },
  {
   "cell_type": "markdown",
   "id": "0cbbc592",
   "metadata": {},
   "source": [
    "**Pregunta:** Realiza una pivot_table para ver ventas promedio por cada tipo de canal."
   ]
  },
  {
   "cell_type": "code",
   "execution_count": 48,
   "id": "2fd172f5",
   "metadata": {},
   "outputs": [
    {
     "name": "stdout",
     "output_type": "stream",
     "text": [
      "                 Sales\n",
      "Influencer            \n",
      "Macro       195.613601\n",
      "Mega        190.593666\n",
      "Micro       191.809095\n",
      "Nano        191.934304\n"
     ]
    }
   ],
   "source": [
    "# Tu código aquí\n",
    "\n",
    "vp = pd.pivot_table(d, values='Sales', index=['Influencer'], aggfunc='mean')\n",
    "print(vp)"
   ]
  },
  {
   "cell_type": "markdown",
   "id": "29509792",
   "metadata": {},
   "source": [
    "## 🎬 The Movies Dataset"
   ]
  },
  {
   "cell_type": "markdown",
   "id": "de0b2ee1",
   "metadata": {},
   "source": [
    "🔗 Dataset disponible en: [https://www.kaggle.com/datasets/rounakbanik/the-movies-dataset?utm_source=chatgpt.com](https://www.kaggle.com/datasets/rounakbanik/the-movies-dataset?utm_source=chatgpt.com)"
   ]
  },
  {
   "cell_type": "markdown",
   "id": "e51caea6",
   "metadata": {},
   "source": [
    "**Pregunta:** ¿Cuáles son las películas con mayor presupuesto?"
   ]
  },
  {
   "cell_type": "code",
   "execution_count": 49,
   "id": "f5c4f516",
   "metadata": {},
   "outputs": [],
   "source": [
    "movies = pd.read_csv('./DataSets/MovieFranchises.csv')"
   ]
  },
  {
   "cell_type": "code",
   "execution_count": 51,
   "id": "bd22d5af",
   "metadata": {},
   "outputs": [
    {
     "name": "stdout",
     "output_type": "stream",
     "text": [
      "                                            Title       Budget\n",
      "50                              Avengers: Endgame  400000000.0\n",
      "43        Star Wars: Episode VIII - The Last Jedi  317000000.0\n",
      "36     Star Wars: Episode VII - The Force Awakens  306000000.0\n",
      "45                         Avengers: Infinity War  300000000.0\n",
      "33                        Avengers: Age of Ultron  280000000.0\n",
      "46                        Solo: A Star Wars Story  275000000.0\n",
      "52  Star Wars: Episode IX - The Rise of Skywalker  275000000.0\n",
      "29            The Hobbit: The Desolation of Smaug  250000000.0\n",
      "21   Harry Potter and the Deathly Hallows: Part 1  250000000.0\n",
      "26              The Hobbit: An Unexpected Journey  250000000.0\n"
     ]
    }
   ],
   "source": [
    "# Tu código aquí\n",
    "\n",
    "pres = movies.sort_values(by='Budget', ascending=False)\n",
    "print(pres[['Title', 'Budget']].head(10))"
   ]
  },
  {
   "cell_type": "markdown",
   "id": "4e333b7d",
   "metadata": {},
   "source": [
    "**Pregunta:** ¿Qué películas obtuvieron mayor ganancia (ingresos - presupuesto)?"
   ]
  },
  {
   "cell_type": "code",
   "execution_count": 55,
   "id": "39fa4a11",
   "metadata": {},
   "outputs": [
    {
     "data": {
      "text/plain": [
       "index               int64\n",
       "MovieID            object\n",
       "Title              object\n",
       "Lifetime Gross     object\n",
       "Year               object\n",
       "Studio             object\n",
       "Rating             object\n",
       "Runtime           float64\n",
       "Budget            float64\n",
       "ReleaseDate        object\n",
       "VoteAvg           float64\n",
       "VoteCount         float64\n",
       "FranchiseID       float64\n",
       "dtype: object"
      ]
     },
     "execution_count": 55,
     "metadata": {},
     "output_type": "execute_result"
    }
   ],
   "source": [
    "movies.dtypes"
   ]
  },
  {
   "cell_type": "code",
   "execution_count": 58,
   "id": "41e85b5a",
   "metadata": {},
   "outputs": [
    {
     "name": "stderr",
     "output_type": "stream",
     "text": [
      "<>:1: SyntaxWarning: invalid escape sequence '\\$'\n",
      "<>:1: SyntaxWarning: invalid escape sequence '\\$'\n",
      "C:\\Users\\c411i\\AppData\\Local\\Temp\\ipykernel_21940\\535337634.py:1: SyntaxWarning: invalid escape sequence '\\$'\n",
      "  movies['Ganancia'] = pd.to_numeric(movies['Lifetime Gross'].replace('[\\$,]', '', regex=True), errors='coerce')\n"
     ]
    }
   ],
   "source": [
    "movies['Ganancia'] = pd.to_numeric(movies['Lifetime Gross'].replace('[\\$,]', '', regex=True), errors='coerce')"
   ]
  },
  {
   "cell_type": "code",
   "execution_count": 63,
   "id": "7100e36f",
   "metadata": {},
   "outputs": [
    {
     "name": "stdout",
     "output_type": "stream",
     "text": [
      "                                           Title      Ganancia\n",
      "50                             Avengers: Endgame  2.797501e+09\n",
      "36    Star Wars: Episode VII - The Force Awakens  2.069522e+09\n",
      "45                        Avengers: Infinity War  2.048360e+09\n",
      "56                       Spider-Man: No Way Home  1.915878e+09\n",
      "34                                Jurassic World  1.671537e+09\n",
      "25                                  The Avengers  1.518816e+09\n",
      "33                       Avengers: Age of Ultron  1.402810e+09\n",
      "44                                 Black Panther  1.347598e+09\n",
      "23  Harry Potter and the Deathly Hallows: Part 2  1.342360e+09\n",
      "43       Star Wars: Episode VIII - The Last Jedi  1.332699e+09\n"
     ]
    }
   ],
   "source": [
    "# Tu código aquí\n",
    "movies['Lifetime Gross'] = pd.to_numeric(movies['Lifetime Gross'].replace('[\\\\$,]', '', regex=True), errors='coerce')\n",
    "movies['Budget'] = pd.to_numeric(movies['Budget'].replace('[\\\\$,]', '', regex=True), errors='coerce')\n",
    "\n",
    "ganancia = movies.sort_values(by='Ganancia', ascending=False)\n",
    "print(ganancia[['Title', 'Ganancia']].head(10))"
   ]
  },
  {
   "cell_type": "markdown",
   "id": "165ce1f0",
   "metadata": {},
   "source": [
    "**Pregunta:** ¿Cuántas películas hay por género?"
   ]
  },
  {
   "cell_type": "code",
   "execution_count": 64,
   "id": "3faad1d1",
   "metadata": {},
   "outputs": [
    {
     "name": "stdout",
     "output_type": "stream",
     "text": [
      "Total de peliculas: 163\n"
     ]
    }
   ],
   "source": [
    "# Tu código aquí\n",
    "\n",
    "peli = movies['Title'].nunique()\n",
    "print(f'Total de peliculas: {peli}')"
   ]
  },
  {
   "cell_type": "markdown",
   "id": "aac0319c",
   "metadata": {},
   "source": [
    "**Pregunta:** ¿Existen películas con presupuesto o ingresos nulos?"
   ]
  },
  {
   "cell_type": "code",
   "execution_count": 65,
   "id": "2f114905",
   "metadata": {},
   "outputs": [
    {
     "name": "stdout",
     "output_type": "stream",
     "text": [
      "     index      MovieID            Title  Lifetime Gross              Year  \\\n",
      "60      60  MovieCastID          MovieID             NaN               NaN   \n",
      "61      61         1001             1001             NaN               NaN   \n",
      "62      62         1002             1001             NaN               NaN   \n",
      "63      63         1003             1001             NaN               NaN   \n",
      "64      64         1004             1001             NaN               NaN   \n",
      "..     ...          ...              ...             ...               ...   \n",
      "600    600          101        Star Wars          1977.0      George Lucas   \n",
      "601    601          102    Jurassic Park          1993.0  Michael Crichton   \n",
      "602    602          103  Wizarding World          2001.0     J. K. Rowling   \n",
      "603    603          104     Middle Earth          2001.0  J. R. R. Tolkien   \n",
      "604    604          105              MCU          2008.0          Stan Lee   \n",
      "\n",
      "    Studio Rating  Runtime  Budget ReleaseDate  VoteAvg  VoteCount  \\\n",
      "60     NaN    NaN      NaN     NaN         NaN      NaN        NaN   \n",
      "61     NaN    NaN      NaN     NaN         NaN      NaN        NaN   \n",
      "62     NaN    NaN      NaN     NaN         NaN      NaN        NaN   \n",
      "63     NaN    NaN      NaN     NaN         NaN      NaN        NaN   \n",
      "64     NaN    NaN      NaN     NaN         NaN      NaN        NaN   \n",
      "..     ...    ...      ...     ...         ...      ...        ...   \n",
      "600    NaN    NaN      NaN     NaN         NaN      NaN        NaN   \n",
      "601    NaN    NaN      NaN     NaN         NaN      NaN        NaN   \n",
      "602    NaN    NaN      NaN     NaN         NaN      NaN        NaN   \n",
      "603    NaN    NaN      NaN     NaN         NaN      NaN        NaN   \n",
      "604    NaN    NaN      NaN     NaN         NaN      NaN        NaN   \n",
      "\n",
      "     FranchiseID  Ganancia  \n",
      "60           NaN       NaN  \n",
      "61           NaN       NaN  \n",
      "62           NaN       NaN  \n",
      "63           NaN       NaN  \n",
      "64           NaN       NaN  \n",
      "..           ...       ...  \n",
      "600          NaN    1977.0  \n",
      "601          NaN    1993.0  \n",
      "602          NaN    2001.0  \n",
      "603          NaN    2001.0  \n",
      "604          NaN    2008.0  \n",
      "\n",
      "[545 rows x 14 columns]\n",
      "     index      MovieID          Title  Lifetime Gross     Year Studio Rating  \\\n",
      "60      60  MovieCastID        MovieID             NaN      NaN    NaN    NaN   \n",
      "61      61         1001           1001             NaN      NaN    NaN    NaN   \n",
      "62      62         1002           1001             NaN      NaN    NaN    NaN   \n",
      "63      63         1003           1001             NaN      NaN    NaN    NaN   \n",
      "64      64         1004           1001             NaN      NaN    NaN    NaN   \n",
      "..     ...          ...            ...             ...      ...    ...    ...   \n",
      "595    595         1178           1059             NaN      NaN    NaN    NaN   \n",
      "596    596         1179           1060             NaN      NaN    NaN    NaN   \n",
      "597    597         1180           1060             NaN      NaN    NaN    NaN   \n",
      "598    598         1181           1060             NaN      NaN    NaN    NaN   \n",
      "599    599  FranchiseId  FranchiseName             NaN  Creator    NaN    NaN   \n",
      "\n",
      "     Runtime  Budget ReleaseDate  VoteAvg  VoteCount  FranchiseID  Ganancia  \n",
      "60       NaN     NaN         NaN      NaN        NaN          NaN       NaN  \n",
      "61       NaN     NaN         NaN      NaN        NaN          NaN       NaN  \n",
      "62       NaN     NaN         NaN      NaN        NaN          NaN       NaN  \n",
      "63       NaN     NaN         NaN      NaN        NaN          NaN       NaN  \n",
      "64       NaN     NaN         NaN      NaN        NaN          NaN       NaN  \n",
      "..       ...     ...         ...      ...        ...          ...       ...  \n",
      "595      NaN     NaN         NaN      NaN        NaN          NaN       NaN  \n",
      "596      NaN     NaN         NaN      NaN        NaN          NaN       NaN  \n",
      "597      NaN     NaN         NaN      NaN        NaN          NaN       NaN  \n",
      "598      NaN     NaN         NaN      NaN        NaN          NaN       NaN  \n",
      "599      NaN     NaN         NaN      NaN        NaN          NaN       NaN  \n",
      "\n",
      "[475 rows x 14 columns]\n"
     ]
    }
   ],
   "source": [
    "# Tu código aquí\n",
    "\n",
    "presP = movies[movies['Budget'].isnull()]\n",
    "ingreP = movies[movies['Lifetime Gross'].isnull()]\n",
    "print(presP)\n",
    "print(ingreP)"
   ]
  },
  {
   "cell_type": "markdown",
   "id": "c6fcf2bc",
   "metadata": {},
   "source": [
    "**Pregunta:** Crea una nueva columna de rentabilidad (ganancia/presupuesto)."
   ]
  },
  {
   "cell_type": "code",
   "execution_count": 66,
   "id": "be53a91d",
   "metadata": {},
   "outputs": [
    {
     "name": "stdout",
     "output_type": "stream",
     "text": [
      "                                             Title      Ganancia      Budget  \\\n",
      "0               Star Wars: Episode IV - A New Hope  7.753980e+08  11000000.0   \n",
      "1   Star Wars: Episode V - The Empire Strikes Back  5.383751e+08  18000000.0   \n",
      "3                                    Jurassic Park  1.109802e+09  63000000.0   \n",
      "2       Star Wars: Episode VI - Return of the Jedi  4.751062e+08  32500000.0   \n",
      "12   The Lord of the Rings: The Return of the King  1.146436e+09  94000000.0   \n",
      "\n",
      "    Rentabilidad  \n",
      "0      70.490728  \n",
      "1      29.909726  \n",
      "3      17.615910  \n",
      "2      14.618652  \n",
      "12     12.196130  \n"
     ]
    }
   ],
   "source": [
    "# Tu código aquí\n",
    "\n",
    "movies['Rentabilidad'] = movies['Ganancia'] / movies['Budget']\n",
    "print(movies[['Title', 'Ganancia', 'Budget', 'Rentabilidad']].sort_values(by='Rentabilidad', ascending=False).head())"
   ]
  },
  {
   "cell_type": "markdown",
   "id": "d5676dda",
   "metadata": {},
   "source": [
    "**Pregunta:** Agrupa por año de lanzamiento y calcula ingresos promedio."
   ]
  },
  {
   "cell_type": "code",
   "execution_count": 68,
   "id": "9b0304a0",
   "metadata": {},
   "outputs": [
    {
     "name": "stdout",
     "output_type": "stream",
     "text": [
      "Year\n",
      "1977                7.753980e+08\n",
      "1980                5.383751e+08\n",
      "1983                4.751062e+08\n",
      "1993                1.109802e+09\n",
      "1997                6.186390e+08\n",
      "1999                1.027083e+09\n",
      "2001                7.630552e+08\n",
      "2002                8.272016e+08\n",
      "2003                1.146436e+09\n",
      "2004                7.976608e+08\n",
      "2005                8.825604e+08\n",
      "2007                9.422017e+08\n",
      "2008                4.252836e+08\n",
      "2009                9.344830e+08\n",
      "2010                8.005019e+08\n",
      "2011                7.207521e+08\n",
      "2012                1.267923e+09\n",
      "2013                9.395408e+08\n",
      "2014                8.166577e+08\n",
      "2015                1.415795e+09\n",
      "2016                9.632719e+08\n",
      "2017                9.826514e+08\n",
      "2018                1.144405e+09\n",
      "2019                1.533010e+09\n",
      "2021                7.824844e+08\n",
      "2022                9.040731e+08\n",
      "Creator                      NaN\n",
      "George Lucas        1.977000e+03\n",
      "J. K. Rowling       2.001000e+03\n",
      "J. R. R. Tolkien    2.001000e+03\n",
      "Michael Crichton    1.993000e+03\n",
      "Stan Lee            2.008000e+03\n",
      "Name: Lifetime Gross, dtype: float64\n"
     ]
    }
   ],
   "source": [
    "# Tu código aquí\n",
    "ipo = movies.groupby('Year')['Lifetime Gross'].mean()\n",
    "print(ipo)"
   ]
  },
  {
   "cell_type": "markdown",
   "id": "6584ece9",
   "metadata": {},
   "source": [
    "**Pregunta:** Realiza una tabla dinámica que compare ingresos por género y año."
   ]
  },
  {
   "cell_type": "code",
   "execution_count": 69,
   "id": "a50ac86d",
   "metadata": {},
   "outputs": [
    {
     "name": "stdout",
     "output_type": "stream",
     "text": [
      "FranchiseID         101.0         102.0         103.0         104.0  \\\n",
      "Year                                                                  \n",
      "1977         7.753980e+08           NaN           NaN           NaN   \n",
      "1980         5.383751e+08           NaN           NaN           NaN   \n",
      "1983         4.751062e+08           NaN           NaN           NaN   \n",
      "1993                  NaN  1.109802e+09           NaN           NaN   \n",
      "1997                  NaN  6.186390e+08           NaN           NaN   \n",
      "1999         1.027083e+09           NaN           NaN           NaN   \n",
      "2001                  NaN  3.687808e+08  1.022290e+09  8.980947e+08   \n",
      "2002         6.537800e+08           NaN  8.799285e+08  9.478962e+08   \n",
      "2003                  NaN           NaN           NaN  1.146436e+09   \n",
      "2004                  NaN           NaN  7.976608e+08           NaN   \n",
      "2005         8.683906e+08           NaN  8.967303e+08           NaN   \n",
      "2007                  NaN           NaN  9.422017e+08           NaN   \n",
      "2008                  NaN           NaN           NaN           NaN   \n",
      "2009                  NaN           NaN  9.344830e+08           NaN   \n",
      "2010                  NaN           NaN  9.770704e+08           NaN   \n",
      "2011                  NaN           NaN  1.342360e+09           NaN   \n",
      "2012                  NaN           NaN           NaN  1.017031e+09   \n",
      "2013                  NaN           NaN           NaN  9.590280e+08   \n",
      "2014                  NaN           NaN           NaN  9.622013e+08   \n",
      "2015         2.069522e+09  1.671537e+09           NaN           NaN   \n",
      "2016         1.058682e+09           NaN           NaN           NaN   \n",
      "2017         1.332699e+09           NaN           NaN           NaN   \n",
      "2018         3.929248e+08  1.310466e+09           NaN           NaN   \n",
      "2019         1.074149e+09           NaN           NaN           NaN   \n",
      "2021                  NaN           NaN           NaN           NaN   \n",
      "2022                  NaN  9.977825e+08           NaN           NaN   \n",
      "\n",
      "FranchiseID         105.0  \n",
      "Year                       \n",
      "1977                  NaN  \n",
      "1980                  NaN  \n",
      "1983                  NaN  \n",
      "1993                  NaN  \n",
      "1997                  NaN  \n",
      "1999                  NaN  \n",
      "2001                  NaN  \n",
      "2002                  NaN  \n",
      "2003                  NaN  \n",
      "2004                  NaN  \n",
      "2005                  NaN  \n",
      "2007                  NaN  \n",
      "2008         8.505672e+08  \n",
      "2009                  NaN  \n",
      "2010         6.239333e+08  \n",
      "2011         8.198964e+08  \n",
      "2012         1.518816e+09  \n",
      "2013         1.859594e+09  \n",
      "2014         1.487772e+09  \n",
      "2015         1.922122e+09  \n",
      "2016         1.831134e+09  \n",
      "2017         2.597907e+09  \n",
      "2018         4.018632e+09  \n",
      "2019         5.057892e+09  \n",
      "2021         3.129938e+09  \n",
      "2022         1.714437e+09  \n"
     ]
    }
   ],
   "source": [
    "# Tu código aquí\n",
    "\n",
    "tpMovies = pd.pivot_table(movies, values='Lifetime Gross', index=['Year'], columns=['FranchiseID'], aggfunc='sum')\n",
    "print(tpMovies)"
   ]
  },
  {
   "cell_type": "markdown",
   "id": "3b4f305a",
   "metadata": {},
   "source": [
    "## 🌦️ Climate Insights Dataset"
   ]
  },
  {
   "cell_type": "markdown",
   "id": "52a90026",
   "metadata": {},
   "source": [
    "🔗 Dataset disponible en: [https://www.kaggle.com/datasets/goyaladi/climate-insights-dataset?utm_source=chatgpt.com](https://www.kaggle.com/datasets/goyaladi/climate-insights-dataset?utm_source=chatgpt.com)"
   ]
  },
  {
   "cell_type": "markdown",
   "id": "ecca5780",
   "metadata": {},
   "source": [
    "**Pregunta:** ¿Cuántos registros hay por año?"
   ]
  },
  {
   "cell_type": "code",
   "execution_count": 79,
   "id": "c58561e3",
   "metadata": {},
   "outputs": [
    {
     "data": {
      "text/plain": [
       "Date                         datetime64[ns]\n",
       "Location                             object\n",
       "Country                              object\n",
       "Temperature                         float64\n",
       "CO2 Emissions                       float64\n",
       "Sea Level Rise                      float64\n",
       "Precipitation                       float64\n",
       "Humidity                            float64\n",
       "Wind Speed                          float64\n",
       "Year                                  int32\n",
       "Month                                 int32\n",
       "Clasificacion Temperatura            object\n",
       "dtype: object"
      ]
     },
     "execution_count": 79,
     "metadata": {},
     "output_type": "execute_result"
    }
   ],
   "source": [
    "cl.dtypes"
   ]
  },
  {
   "cell_type": "code",
   "execution_count": 70,
   "id": "ffc8b08b",
   "metadata": {},
   "outputs": [],
   "source": [
    "cl = pd.read_csv('./DataSets/climate_change_data.csv')"
   ]
  },
  {
   "cell_type": "code",
   "execution_count": 71,
   "id": "9231b5f3",
   "metadata": {},
   "outputs": [
    {
     "name": "stdout",
     "output_type": "stream",
     "text": [
      "<bound method Series.sort_index of Year\n",
      "2000    436\n",
      "2016    436\n",
      "2012    436\n",
      "2020    436\n",
      "2005    435\n",
      "2001    435\n",
      "2003    435\n",
      "2015    435\n",
      "2018    435\n",
      "2004    435\n",
      "2007    435\n",
      "2011    435\n",
      "2008    435\n",
      "2009    435\n",
      "2002    434\n",
      "2006    434\n",
      "2014    434\n",
      "2010    434\n",
      "2013    434\n",
      "2017    434\n",
      "2019    434\n",
      "2021    434\n",
      "2022    434\n",
      "Name: count, dtype: int64>\n"
     ]
    }
   ],
   "source": [
    "# Tu código aquí\n",
    "\n",
    "cl['Date'] = pd.to_datetime(cl['Date'])\n",
    "cl['Year'] = cl['Date'].dt.year\n",
    "regA = cl['Year'].value_counts().sort_index\n",
    "print(regA)"
   ]
  },
  {
   "cell_type": "markdown",
   "id": "58ab7dce",
   "metadata": {},
   "source": [
    "**Pregunta:** ¿Cuál es la temperatura media mensual más alta y más baja?"
   ]
  },
  {
   "cell_type": "code",
   "execution_count": 72,
   "id": "1daf20b0",
   "metadata": {},
   "outputs": [
    {
     "name": "stdout",
     "output_type": "stream",
     "text": [
      "Temperatura media mensual más alta: 15.290563089539303\n",
      "Temperatura media mensual más baja: 14.745375328695793\n"
     ]
    }
   ],
   "source": [
    "# Tu código aquí\n",
    "\n",
    "cl['Month'] = cl['Date'].dt.month\n",
    "tempM = cl.groupby('Month')['Temperature'].mean()\n",
    "print(f\"Temperatura media mensual más alta: {tempM.max()}\")\n",
    "print(f\"Temperatura media mensual más baja: {tempM.min()}\")"
   ]
  },
  {
   "cell_type": "markdown",
   "id": "95b01411",
   "metadata": {},
   "source": [
    "**Pregunta:** ¿Qué meses tienen mayor precipitación?"
   ]
  },
  {
   "cell_type": "code",
   "execution_count": 73,
   "id": "efb74993",
   "metadata": {},
   "outputs": [
    {
     "name": "stdout",
     "output_type": "stream",
     "text": [
      "Month\n",
      "9     50.947790\n",
      "5     50.818566\n",
      "3     50.494378\n",
      "10    50.241029\n",
      "4     50.131147\n",
      "6     50.130129\n",
      "12    50.059991\n",
      "11    49.900964\n",
      "2     49.550014\n",
      "1     49.380073\n",
      "7     48.663987\n",
      "8     48.276644\n",
      "Name: Precipitation, dtype: float64\n"
     ]
    }
   ],
   "source": [
    "# Tu código aquí\n",
    "Pmen = cl.groupby('Month')['Precipitation'].mean().sort_values(ascending=False)\n",
    "print(Pmen)"
   ]
  },
  {
   "cell_type": "markdown",
   "id": "adc9f249",
   "metadata": {},
   "source": [
    "**Pregunta:** ¿Existen valores faltantes en alguna columna?"
   ]
  },
  {
   "cell_type": "code",
   "execution_count": 74,
   "id": "1dce4e97",
   "metadata": {},
   "outputs": [
    {
     "name": "stdout",
     "output_type": "stream",
     "text": [
      "Date              0\n",
      "Location          0\n",
      "Country           0\n",
      "Temperature       0\n",
      "CO2 Emissions     0\n",
      "Sea Level Rise    0\n",
      "Precipitation     0\n",
      "Humidity          0\n",
      "Wind Speed        0\n",
      "Year              0\n",
      "Month             0\n",
      "dtype: int64\n"
     ]
    }
   ],
   "source": [
    "# Tu código aquí\n",
    "\n",
    "vf = cl.isnull().sum()\n",
    "print(vf)"
   ]
  },
  {
   "cell_type": "markdown",
   "id": "10731388",
   "metadata": {},
   "source": [
    "**Pregunta:** Agrupa por estación del año y calcula la media de temperatura."
   ]
  },
  {
   "cell_type": "code",
   "execution_count": null,
   "id": "4c006a3d",
   "metadata": {},
   "outputs": [
    {
     "ename": "KeyError",
     "evalue": "'Season'",
     "output_type": "error",
     "traceback": [
      "\u001b[31m---------------------------------------------------------------------------\u001b[39m",
      "\u001b[31mKeyError\u001b[39m                                  Traceback (most recent call last)",
      "\u001b[36mCell\u001b[39m\u001b[36m \u001b[39m\u001b[32mIn[78]\u001b[39m\u001b[32m, line 17\u001b[39m\n\u001b[32m      1\u001b[39m \u001b[38;5;66;03m# Tu código aquí\u001b[39;00m\n\u001b[32m      2\u001b[39m \n\u001b[32m      3\u001b[39m \u001b[38;5;66;03m#def obtener_estacion(mes):\u001b[39;00m\n\u001b[32m   (...)\u001b[39m\u001b[32m     14\u001b[39m \u001b[38;5;66;03m# media_temp_por_estacion = df_climate.groupby('Estacion')['Temperature'].mean()\u001b[39;00m\n\u001b[32m     15\u001b[39m \u001b[38;5;66;03m# print(media_temp_por_estacion)\u001b[39;00m\n\u001b[32m---> \u001b[39m\u001b[32m17\u001b[39m \u001b[43mcl\u001b[49m\u001b[43m.\u001b[49m\u001b[43mgroupby\u001b[49m\u001b[43m(\u001b[49m\u001b[33;43m'\u001b[39;49m\u001b[33;43mSeason\u001b[39;49m\u001b[33;43m'\u001b[39;49m\u001b[43m)\u001b[49m[\u001b[33m'\u001b[39m\u001b[33mTemperature\u001b[39m\u001b[33m'\u001b[39m].mean()\n",
      "\u001b[36mFile \u001b[39m\u001b[32m~\\AppData\\Roaming\\Python\\Python313\\site-packages\\pandas\\core\\frame.py:9190\u001b[39m, in \u001b[36mDataFrame.groupby\u001b[39m\u001b[34m(self, by, axis, level, as_index, sort, group_keys, observed, dropna)\u001b[39m\n\u001b[32m   9187\u001b[39m \u001b[38;5;28;01mif\u001b[39;00m level \u001b[38;5;129;01mis\u001b[39;00m \u001b[38;5;28;01mNone\u001b[39;00m \u001b[38;5;129;01mand\u001b[39;00m by \u001b[38;5;129;01mis\u001b[39;00m \u001b[38;5;28;01mNone\u001b[39;00m:\n\u001b[32m   9188\u001b[39m     \u001b[38;5;28;01mraise\u001b[39;00m \u001b[38;5;167;01mTypeError\u001b[39;00m(\u001b[33m\"\u001b[39m\u001b[33mYou have to supply one of \u001b[39m\u001b[33m'\u001b[39m\u001b[33mby\u001b[39m\u001b[33m'\u001b[39m\u001b[33m and \u001b[39m\u001b[33m'\u001b[39m\u001b[33mlevel\u001b[39m\u001b[33m'\u001b[39m\u001b[33m\"\u001b[39m)\n\u001b[32m-> \u001b[39m\u001b[32m9190\u001b[39m \u001b[38;5;28;01mreturn\u001b[39;00m \u001b[43mDataFrameGroupBy\u001b[49m\u001b[43m(\u001b[49m\n\u001b[32m   9191\u001b[39m \u001b[43m    \u001b[49m\u001b[43mobj\u001b[49m\u001b[43m=\u001b[49m\u001b[38;5;28;43mself\u001b[39;49m\u001b[43m,\u001b[49m\n\u001b[32m   9192\u001b[39m \u001b[43m    \u001b[49m\u001b[43mkeys\u001b[49m\u001b[43m=\u001b[49m\u001b[43mby\u001b[49m\u001b[43m,\u001b[49m\n\u001b[32m   9193\u001b[39m \u001b[43m    \u001b[49m\u001b[43maxis\u001b[49m\u001b[43m=\u001b[49m\u001b[43maxis\u001b[49m\u001b[43m,\u001b[49m\n\u001b[32m   9194\u001b[39m \u001b[43m    \u001b[49m\u001b[43mlevel\u001b[49m\u001b[43m=\u001b[49m\u001b[43mlevel\u001b[49m\u001b[43m,\u001b[49m\n\u001b[32m   9195\u001b[39m \u001b[43m    \u001b[49m\u001b[43mas_index\u001b[49m\u001b[43m=\u001b[49m\u001b[43mas_index\u001b[49m\u001b[43m,\u001b[49m\n\u001b[32m   9196\u001b[39m \u001b[43m    \u001b[49m\u001b[43msort\u001b[49m\u001b[43m=\u001b[49m\u001b[43msort\u001b[49m\u001b[43m,\u001b[49m\n\u001b[32m   9197\u001b[39m \u001b[43m    \u001b[49m\u001b[43mgroup_keys\u001b[49m\u001b[43m=\u001b[49m\u001b[43mgroup_keys\u001b[49m\u001b[43m,\u001b[49m\n\u001b[32m   9198\u001b[39m \u001b[43m    \u001b[49m\u001b[43mobserved\u001b[49m\u001b[43m=\u001b[49m\u001b[43mobserved\u001b[49m\u001b[43m,\u001b[49m\n\u001b[32m   9199\u001b[39m \u001b[43m    \u001b[49m\u001b[43mdropna\u001b[49m\u001b[43m=\u001b[49m\u001b[43mdropna\u001b[49m\u001b[43m,\u001b[49m\n\u001b[32m   9200\u001b[39m \u001b[43m\u001b[49m\u001b[43m)\u001b[49m\n",
      "\u001b[36mFile \u001b[39m\u001b[32m~\\AppData\\Roaming\\Python\\Python313\\site-packages\\pandas\\core\\groupby\\groupby.py:1330\u001b[39m, in \u001b[36mGroupBy.__init__\u001b[39m\u001b[34m(self, obj, keys, axis, level, grouper, exclusions, selection, as_index, sort, group_keys, observed, dropna)\u001b[39m\n\u001b[32m   1327\u001b[39m \u001b[38;5;28mself\u001b[39m.dropna = dropna\n\u001b[32m   1329\u001b[39m \u001b[38;5;28;01mif\u001b[39;00m grouper \u001b[38;5;129;01mis\u001b[39;00m \u001b[38;5;28;01mNone\u001b[39;00m:\n\u001b[32m-> \u001b[39m\u001b[32m1330\u001b[39m     grouper, exclusions, obj = \u001b[43mget_grouper\u001b[49m\u001b[43m(\u001b[49m\n\u001b[32m   1331\u001b[39m \u001b[43m        \u001b[49m\u001b[43mobj\u001b[49m\u001b[43m,\u001b[49m\n\u001b[32m   1332\u001b[39m \u001b[43m        \u001b[49m\u001b[43mkeys\u001b[49m\u001b[43m,\u001b[49m\n\u001b[32m   1333\u001b[39m \u001b[43m        \u001b[49m\u001b[43maxis\u001b[49m\u001b[43m=\u001b[49m\u001b[43maxis\u001b[49m\u001b[43m,\u001b[49m\n\u001b[32m   1334\u001b[39m \u001b[43m        \u001b[49m\u001b[43mlevel\u001b[49m\u001b[43m=\u001b[49m\u001b[43mlevel\u001b[49m\u001b[43m,\u001b[49m\n\u001b[32m   1335\u001b[39m \u001b[43m        \u001b[49m\u001b[43msort\u001b[49m\u001b[43m=\u001b[49m\u001b[43msort\u001b[49m\u001b[43m,\u001b[49m\n\u001b[32m   1336\u001b[39m \u001b[43m        \u001b[49m\u001b[43mobserved\u001b[49m\u001b[43m=\u001b[49m\u001b[38;5;28;43;01mFalse\u001b[39;49;00m\u001b[43m \u001b[49m\u001b[38;5;28;43;01mif\u001b[39;49;00m\u001b[43m \u001b[49m\u001b[43mobserved\u001b[49m\u001b[43m \u001b[49m\u001b[38;5;129;43;01mis\u001b[39;49;00m\u001b[43m \u001b[49m\u001b[43mlib\u001b[49m\u001b[43m.\u001b[49m\u001b[43mno_default\u001b[49m\u001b[43m \u001b[49m\u001b[38;5;28;43;01melse\u001b[39;49;00m\u001b[43m \u001b[49m\u001b[43mobserved\u001b[49m\u001b[43m,\u001b[49m\n\u001b[32m   1337\u001b[39m \u001b[43m        \u001b[49m\u001b[43mdropna\u001b[49m\u001b[43m=\u001b[49m\u001b[38;5;28;43mself\u001b[39;49m\u001b[43m.\u001b[49m\u001b[43mdropna\u001b[49m\u001b[43m,\u001b[49m\n\u001b[32m   1338\u001b[39m \u001b[43m    \u001b[49m\u001b[43m)\u001b[49m\n\u001b[32m   1340\u001b[39m \u001b[38;5;28;01mif\u001b[39;00m observed \u001b[38;5;129;01mis\u001b[39;00m lib.no_default:\n\u001b[32m   1341\u001b[39m     \u001b[38;5;28;01mif\u001b[39;00m \u001b[38;5;28many\u001b[39m(ping._passed_categorical \u001b[38;5;28;01mfor\u001b[39;00m ping \u001b[38;5;129;01min\u001b[39;00m grouper.groupings):\n",
      "\u001b[36mFile \u001b[39m\u001b[32m~\\AppData\\Roaming\\Python\\Python313\\site-packages\\pandas\\core\\groupby\\grouper.py:1043\u001b[39m, in \u001b[36mget_grouper\u001b[39m\u001b[34m(obj, key, axis, level, sort, observed, validate, dropna)\u001b[39m\n\u001b[32m   1041\u001b[39m         in_axis, level, gpr = \u001b[38;5;28;01mFalse\u001b[39;00m, gpr, \u001b[38;5;28;01mNone\u001b[39;00m\n\u001b[32m   1042\u001b[39m     \u001b[38;5;28;01melse\u001b[39;00m:\n\u001b[32m-> \u001b[39m\u001b[32m1043\u001b[39m         \u001b[38;5;28;01mraise\u001b[39;00m \u001b[38;5;167;01mKeyError\u001b[39;00m(gpr)\n\u001b[32m   1044\u001b[39m \u001b[38;5;28;01melif\u001b[39;00m \u001b[38;5;28misinstance\u001b[39m(gpr, Grouper) \u001b[38;5;129;01mand\u001b[39;00m gpr.key \u001b[38;5;129;01mis\u001b[39;00m \u001b[38;5;129;01mnot\u001b[39;00m \u001b[38;5;28;01mNone\u001b[39;00m:\n\u001b[32m   1045\u001b[39m     \u001b[38;5;66;03m# Add key to exclusions\u001b[39;00m\n\u001b[32m   1046\u001b[39m     exclusions.add(gpr.key)\n",
      "\u001b[31mKeyError\u001b[39m: 'Season'"
     ]
    }
   ],
   "source": [
    "# Tu código aquí\n",
    "\n",
    "def obtener_estacion(mes):\n",
    "    if mes in [12, 1, 2]:\n",
    "        return 'Invierno'\n",
    "    elif mes in [3, 4, 5]:\n",
    "        return 'Primavera'\n",
    "    elif mes in [6, 7, 8]:\n",
    "        return 'Verano'\n",
    "    else:\n",
    "        return 'Otoño'\n",
    "\n",
    "df_climate['Estacion'] = df_climate['Month'].apply(obtener_estacion)\n",
    "media_temp_por_estacion = df_climate.groupby('Estacion')['Temperature'].mean()\n",
    "print(media_temp_por_estacion)\n",
    "\n",
    "# cl.groupby('Season')['Temperature'].mean()"
   ]
  },
  {
   "cell_type": "markdown",
   "id": "f77184d2",
   "metadata": {},
   "source": [
    "**Pregunta:** Crea una columna que clasifique los días como 'calurosos' o 'templados'."
   ]
  },
  {
   "cell_type": "code",
   "execution_count": 75,
   "id": "8da1b54b",
   "metadata": {},
   "outputs": [
    {
     "name": "stdout",
     "output_type": "stream",
     "text": [
      "   Temperature Clasificacion Temperatura\n",
      "0    10.688986                  Templado\n",
      "1    13.814430                  Templado\n",
      "2    27.323718                  Caluroso\n",
      "3    12.309581                  Templado\n",
      "4    13.210885                  Templado\n"
     ]
    }
   ],
   "source": [
    "# Tu código aquí\n",
    "umbral = 20\n",
    "\n",
    "cl['Clasificacion Temperatura'] = cl['Temperature'].apply(lambda x: 'Caluroso' if x > umbral else 'Templado')\n",
    "print(cl[['Temperature', 'Clasificacion Temperatura']].head())"
   ]
  },
  {
   "cell_type": "markdown",
   "id": "4dac89b0",
   "metadata": {},
   "source": [
    "**Pregunta:** Genera una pivot_table que muestre la temperatura promedio por año y mes."
   ]
  },
  {
   "cell_type": "code",
   "execution_count": 76,
   "id": "510b6d89",
   "metadata": {},
   "outputs": [
    {
     "name": "stdout",
     "output_type": "stream",
     "text": [
      "Month         1          2          3          4          5          6   \\\n",
      "Year                                                                      \n",
      "2000   14.206357  13.932424  16.353462  14.956865  15.447593  15.312805   \n",
      "2001   14.708201  16.514600  13.973159  15.036136  14.800959  14.723588   \n",
      "2002   13.620897  14.760417  14.212325  13.850515  13.673576  13.502537   \n",
      "2003   14.885562  16.854469  14.114849  14.987196  14.129527  14.842865   \n",
      "2004   15.914895  13.717340  14.815031  15.814182  15.283723  15.279225   \n",
      "2005   15.310610  14.956032  16.763042  14.461071  16.430089  15.204628   \n",
      "2006   13.021321  14.050059  16.181762  14.232334  15.479402  16.405412   \n",
      "2007   14.419660  14.287890  14.973328  13.083154  15.425498  16.270065   \n",
      "2008   15.947948  15.317924  14.456524  14.146105  15.636002  15.028988   \n",
      "2009   15.004275  13.500589  14.986215  13.581644  13.945644  14.644463   \n",
      "2010   16.430713  16.602293  13.796567  14.304352  14.307113  14.671207   \n",
      "2011   14.799867  13.479437  15.693903  15.139654  14.684203  15.105863   \n",
      "2012   15.014508  14.846005  13.295717  15.058723  13.914326  14.940604   \n",
      "2013   14.817513  15.026508  15.169225  15.652592  15.699235  15.624625   \n",
      "2014   14.211216  17.750663  14.098651  16.129610  15.228852  13.684015   \n",
      "2015   14.241782  15.033940  14.004943  16.138518  14.196789  14.114472   \n",
      "2016   14.670316  15.497960  15.300441  15.048309  16.276688  13.696816   \n",
      "2017   14.916962  16.109878  14.875714  14.620956  14.702661  14.718316   \n",
      "2018   14.459322  13.972831  16.687060  15.402600  13.581579  15.342407   \n",
      "2019   14.979902  15.127148  15.228717  15.051345  15.698920  15.217087   \n",
      "2020   16.365128  16.494077  14.513129  13.769750  14.111491  15.371135   \n",
      "2021   15.004946  14.917552  15.611437  15.020317  14.224062  15.239940   \n",
      "2022   13.855182  16.237678  12.730452  13.669461  14.048418  14.726455   \n",
      "\n",
      "Month         7          8          9          10         11         12  \n",
      "Year                                                                     \n",
      "2000   15.628546  15.079403  14.245601  14.634586  15.791594  14.747044  \n",
      "2001   15.254576  15.039348  14.480689  14.634459  15.584229  14.721999  \n",
      "2002   15.576326  14.671967  16.328612  14.936858  15.609769  14.881162  \n",
      "2003   15.227706  15.968507  15.345826  14.831173  15.958393  14.932671  \n",
      "2004   16.452629  15.951439  14.279708  15.091279  15.018508  15.603309  \n",
      "2005   15.133922  15.070869  15.637863  15.126200  16.467725  14.171810  \n",
      "2006   14.475120  13.628186  15.726648  15.800620  14.232370  15.692140  \n",
      "2007   15.347496  15.393289  16.682545  15.696156  15.788519  15.113820  \n",
      "2008   14.423550  15.095044  14.290230  13.657560  15.499798  14.481284  \n",
      "2009   14.477702  16.043215  13.838197  13.994606  14.802935  14.848085  \n",
      "2010   14.375021  14.925134  14.717537  15.053192  14.369786  13.809852  \n",
      "2011   15.690435  15.687834  13.865234  15.437654  15.467247  16.068971  \n",
      "2012   14.006859  13.204141  15.538426  14.538936  15.288107  14.969530  \n",
      "2013   15.951572  14.614062  14.210218  14.339588  14.792342  13.711844  \n",
      "2014   15.053259  13.415877  15.484833  16.763142  15.735282  15.005282  \n",
      "2015   14.048836  14.783575  15.314595  14.618449  14.371005  14.182403  \n",
      "2016   14.551097  15.774117  13.637672  15.458059  15.202107  15.238861  \n",
      "2017   14.430206  16.142818  15.179017  13.392676  14.928116  14.321032  \n",
      "2018   14.933499  15.235965  13.976580  14.518844  13.422849  14.163839  \n",
      "2019   15.397701  14.697973  13.085429  14.792796  16.787389  15.076437  \n",
      "2020   14.828948  14.722336  16.534824  13.441375  15.383780  15.929036  \n",
      "2021   14.669112  14.603044  15.945297  15.155843  15.000113  16.138813  \n",
      "2022   15.354888  14.516170  14.715461  14.762771  16.138990  15.065756  \n"
     ]
    }
   ],
   "source": [
    "# Tu código aquí\n",
    "\n",
    "Tcl = pd.pivot_table(cl, values='Temperature', index='Year', columns='Month', aggfunc='mean')\n",
    "print(Tcl)"
   ]
  }
 ],
 "metadata": {
  "kernelspec": {
   "display_name": "Python 3",
   "language": "python",
   "name": "python3"
  },
  "language_info": {
   "codemirror_mode": {
    "name": "ipython",
    "version": 3
   },
   "file_extension": ".py",
   "mimetype": "text/x-python",
   "name": "python",
   "nbconvert_exporter": "python",
   "pygments_lexer": "ipython3",
   "version": "3.13.6"
  }
 },
 "nbformat": 4,
 "nbformat_minor": 5
}
