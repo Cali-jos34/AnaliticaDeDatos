{
 "cells": [
  {
   "cell_type": "markdown",
   "id": "e3bb067c",
   "metadata": {},
   "source": [
    "# Listas\n",
    "\n",
    "### Objetivos\n",
    "\n",
    "- Entender la sintazizs de las listas en python.\n",
    "- Aprender a crear listas y accesarlas.\n",
    "\n",
    "---\n",
    "### Desarollo\n",
    "\n",
    "1. Crear listas y accediendo a ellas\n",
    "\n",
    "Las listas son secuencias ordenadas. El orden de los datos en la lista es el mismo orden que tiene los datos a la hora de ser asignados. Una lista se ve asi:"
   ]
  },
  {
   "cell_type": "code",
   "execution_count": 1,
   "id": "b3ee8c96",
   "metadata": {},
   "outputs": [
    {
     "data": {
      "text/plain": [
       "[1, 4, 6, 2, 4]"
      ]
     },
     "execution_count": 1,
     "metadata": {},
     "output_type": "execute_result"
    }
   ],
   "source": [
    "lista_1 = [1,4,6,2,4]\n",
    "lista_1"
   ]
  },
  {
   "cell_type": "code",
   "execution_count": 2,
   "id": "1878937c",
   "metadata": {},
   "outputs": [
    {
     "data": {
      "text/plain": [
       "list"
      ]
     },
     "execution_count": 2,
     "metadata": {},
     "output_type": "execute_result"
    }
   ],
   "source": [
    "type(lista_1)"
   ]
  },
  {
   "cell_type": "markdown",
   "id": "f65208ce",
   "metadata": {},
   "source": [
    "Cada elemento de la lista tiene un índice, que se utiliza para acceder a dicho elemento. Dado que las listas son ordenadas, los indices se van asignando secuencialmente desde el primer elemento hasta el ultimo. El primer indice es siempre `0`, y por lo tanto el ultimo indice es siempre `n-1`, donde `n` es el numero total de elementos en la lista."
   ]
  },
  {
   "cell_type": "code",
   "execution_count": 3,
   "id": "395b3268",
   "metadata": {},
   "outputs": [
    {
     "name": "stdout",
     "output_type": "stream",
     "text": [
      "Primer elemento de la lista: 1\n",
      "Ultimo elemento de la lista: 4\n"
     ]
    }
   ],
   "source": [
    "#Imprimir el primer y el ultimo elemento de la lista\n",
    "print(f'Primer elemento de la lista: {lista_1[0]}')\n",
    "print(f'Ultimo elemento de la lista: {lista_1[4]}')\n"
   ]
  },
  {
   "cell_type": "code",
   "execution_count": 4,
   "id": "baa57c07",
   "metadata": {},
   "outputs": [
    {
     "ename": "IndexError",
     "evalue": "list index out of range",
     "output_type": "error",
     "traceback": [
      "\u001b[31m---------------------------------------------------------------------------\u001b[39m",
      "\u001b[31mIndexError\u001b[39m                                Traceback (most recent call last)",
      "\u001b[36mCell\u001b[39m\u001b[36m \u001b[39m\u001b[32mIn[4]\u001b[39m\u001b[32m, line 1\u001b[39m\n\u001b[32m----> \u001b[39m\u001b[32m1\u001b[39m \u001b[43mlista_1\u001b[49m\u001b[43m[\u001b[49m\u001b[32;43m5\u001b[39;49m\u001b[43m]\u001b[49m\n",
      "\u001b[31mIndexError\u001b[39m: list index out of range"
     ]
    }
   ],
   "source": [
    "lista_1[5]"
   ]
  },
  {
   "cell_type": "code",
   "execution_count": 2,
   "id": "dc62da5f",
   "metadata": {},
   "outputs": [
    {
     "name": "stdout",
     "output_type": "stream",
     "text": [
      "Contenido de la lista: [10, 5, 7, 2, 1]\n",
      "<class 'list'>\n"
     ]
    }
   ],
   "source": [
    "numbers = [10,5,7,2,1]\n",
    "\n",
    "# Imprimir el contenido de la lista\n",
    "print(f'Contenido de la lista: {numbers}')\n",
    "print(type(numbers))"
   ]
  },
  {
   "cell_type": "code",
   "execution_count": 4,
   "id": "f5d74280",
   "metadata": {},
   "outputs": [
    {
     "data": {
      "text/plain": [
       "2"
      ]
     },
     "execution_count": 4,
     "metadata": {},
     "output_type": "execute_result"
    }
   ],
   "source": [
    "# Permite accesar al valor que se encuentra en la posición\n",
    "numbers[3]"
   ]
  },
  {
   "cell_type": "markdown",
   "id": "26f9c727",
   "metadata": {},
   "source": [
    "**Vamos asignar un nuevo valor 111 al primer elemento en la lista. Lo hacemos de la siguiente manera:**\n"
   ]
  },
  {
   "cell_type": "code",
   "execution_count": 5,
   "id": "441d9afb",
   "metadata": {},
   "outputs": [
    {
     "name": "stdout",
     "output_type": "stream",
     "text": [
      "[111, 5, 7, 2, 1]\n"
     ]
    }
   ],
   "source": [
    "numbers[0] = 111\n",
    "print(numbers)"
   ]
  },
  {
   "cell_type": "code",
   "execution_count": 6,
   "id": "3566c60b",
   "metadata": {},
   "outputs": [
    {
     "name": "stdout",
     "output_type": "stream",
     "text": [
      "[111, 1, 7, 2, 1]\n"
     ]
    }
   ],
   "source": [
    "# Copiar el valor del 5to elemento al segundo\n",
    "\n",
    "numbers[1] = numbers[4]\n",
    "print(numbers)"
   ]
  },
  {
   "cell_type": "code",
   "execution_count": 7,
   "id": "66cf06e9",
   "metadata": {},
   "outputs": [
    {
     "name": "stdout",
     "output_type": "stream",
     "text": [
      "1\n"
     ]
    }
   ],
   "source": [
    "print(numbers [-1])"
   ]
  },
  {
   "cell_type": "markdown",
   "id": "d89d03f3",
   "metadata": {},
   "source": [
    "## Eliminando Elementos de la Lista\n",
    "\n",
    "Cualquier elemento de la lista puede ser eliminado en cualquier momento - esto se hace con una instrucción llamada `del` (eliminar). Nota: es una instrucción, no una función.\n",
    "\n",
    "Tienes que apuntar al elemento que quieres eliminar - desaparecerá de la lista y la longitud de la lista se reducirá en uno."
   ]
  },
  {
   "cell_type": "code",
   "execution_count": 9,
   "id": "c5b74868",
   "metadata": {},
   "outputs": [
    {
     "name": "stdout",
     "output_type": "stream",
     "text": [
      "la lista actual es: [111, 1, 7, 2, 1]\n"
     ]
    }
   ],
   "source": [
    "print(f'la lista actual es: {numbers}')\n",
    "\n",
    "del numbers[2]"
   ]
  },
  {
   "cell_type": "code",
   "execution_count": 13,
   "id": "bbe770e1",
   "metadata": {},
   "outputs": [
    {
     "name": "stdout",
     "output_type": "stream",
     "text": [
      "La lista actual es: [111, 1, 2, 1]\n",
      "El tamaño de la lista es: 4\n"
     ]
    }
   ],
   "source": [
    "print(f'La lista actual es: {numbers}')\n",
    "print(f'El tamaño de la lista es: {len(numbers)}')"
   ]
  },
  {
   "cell_type": "code",
   "execution_count": null,
   "id": "f0f12aa0",
   "metadata": {},
   "outputs": [],
   "source": [
    "# `del` elimina el elemento de la lista \n",
    "\n",
    "del numbers[-2]"
   ]
  },
  {
   "cell_type": "code",
   "execution_count": 14,
   "id": "142e976d",
   "metadata": {},
   "outputs": [
    {
     "name": "stdout",
     "output_type": "stream",
     "text": [
      "La lista actual es: [1, 4, 6, 2, 11]\n",
      "El tamaño de la lista es: 5\n"
     ]
    }
   ],
   "source": [
    "# `remove` elimina o remueve la primera coincidencia de un valor que se le indica\n",
    "\n",
    "lista_prueba = [1,2,4,6,2,11]\n",
    "lista_prueba.remove(2)\n",
    "print(f'La lista actual es: {lista_prueba}')\n",
    "print(f'El tamaño de la lista es: {len(lista_prueba)}')"
   ]
  },
  {
   "cell_type": "code",
   "execution_count": 15,
   "id": "92549db2",
   "metadata": {},
   "outputs": [],
   "source": [
    "def eliminar (valor):\n",
    "    #print(f'Indice: {indice}, Elemento: {elemento}')\n",
    "    for indice, elemento in enumerate(lista_prueba):\n",
    "        if elemento == valor:\n",
    "            del lista_prueba[indice]"
   ]
  },
  {
   "cell_type": "code",
   "execution_count": 16,
   "id": "47f3a775",
   "metadata": {},
   "outputs": [
    {
     "name": "stdout",
     "output_type": "stream",
     "text": [
      "Lista Actual [1, 4, 6, 2, 11]\n",
      "Lista después de eliminar [1, 4, 6, 11]\n"
     ]
    }
   ],
   "source": [
    "print(f'Lista Actual {lista_prueba}')\n",
    "eliminar(2)\n",
    "print(f'Lista después de eliminar {lista_prueba}')"
   ]
  },
  {
   "cell_type": "markdown",
   "id": "33557652",
   "metadata": {},
   "source": [
    "### Los Indices Negativos Son Legales\n",
    "\n",
    "`Un elemento con indice igual a -1 es el ultimo en la lista`"
   ]
  },
  {
   "cell_type": "code",
   "execution_count": 19,
   "id": "614b7273",
   "metadata": {},
   "outputs": [
    {
     "name": "stdout",
     "output_type": "stream",
     "text": [
      "El ultimo valor de la lista es: 1\n",
      "El ultimo valor de la lista es: 2\n",
      "El ultimo valor de la lista es: 7\n",
      "El ultimo valor de la lista es: 111\n"
     ]
    }
   ],
   "source": [
    "numero_2 = [111,7,2,1]\n",
    "print(f'El ultimo valor de la lista es: {numero_2[-1]}')\n",
    "print(f'El ultimo valor de la lista es: {numero_2[-2]}')\n",
    "print(f'El ultimo valor de la lista es: {numero_2[-3]}')\n",
    "print(f'El ultimo valor de la lista es: {numero_2[-4]}')"
   ]
  },
  {
   "cell_type": "markdown",
   "id": "af664607",
   "metadata": {},
   "source": [
    "## Ejercicio de Lista 1"
   ]
  },
  {
   "cell_type": "code",
   "execution_count": null,
   "id": "279e77ab",
   "metadata": {},
   "outputs": [],
   "source": [
    "## Ejercicio de Listas \n",
    "\n",
    "hat_list = [1, 2, 3, 4, 5]  # Esta es una lista existente de números ocultos en el sombrero.\n",
    "\n",
    "# Paso 1: escribe una línea de código que solicite al usuario\n",
    "# reemplazar el número de en medio con un número entero ingresado por el usuario.\n",
    "\n",
    "# Paso 2: escribe aquí una línea de código que elimine el último elemento de la lista.\n",
    "\n",
    "# Paso 3: escribe aquí una línea de código que imprima la longitud de la lista existente.\n"
   ]
  },
  {
   "cell_type": "markdown",
   "id": "97aeea33",
   "metadata": {},
   "source": [
    "## Agregando elementos a una lista: append() e insert()\n",
    "\n",
    "Un nuevo elemento puede ser añadido al final de la lista existente:\n",
    "\n",
    "`list.append(value)` >>>>> Añade un nuevo elemento al final de la lista\n",
    "\n",
    "El otro metodo es un poco mas inteligente - puede agregar un nuevo elemento en cualquier lugar de la lista, no solo al final:\n",
    "\n",
    "`list.insert(location, value)`\n",
    "\n",
    "- el primero muestra la ubicación requerida del elemento a insertar; nota: todos los elementos existentes que ocupan ubicaciones a la derecha del nuevo elemento (incluido el que está en la posición indicada) se desplazan a la derecha, para hacer espacio para el nuevo elemento;\n",
    "-  el segundo es el elemento a insertar."
   ]
  },
  {
   "cell_type": "code",
   "execution_count": 21,
   "id": "11ea6fcd",
   "metadata": {},
   "outputs": [
    {
     "name": "stdout",
     "output_type": "stream",
     "text": [
      "La lista original es: [123, 8, 4, 1]\n",
      "El tamaño de la lista es: 4\n"
     ]
    }
   ],
   "source": [
    "number_3 = [123,8,4,1]\n",
    "print(f'La lista original es: {number_3}')\n",
    "print(f'El tamaño de la lista es: {len(number_3)}')"
   ]
  },
  {
   "cell_type": "code",
   "execution_count": 22,
   "id": "494ad842",
   "metadata": {},
   "outputs": [
    {
     "name": "stdout",
     "output_type": "stream",
     "text": [
      "La lista original es: [123, 8, 4, 1, 4]\n",
      "El tamaño de la lista es: 5\n"
     ]
    }
   ],
   "source": [
    "#agregar un valor al final de la lista con el metodo append\n",
    "\n",
    "number_3.append(4)\n",
    "print(f'La lista original es: {number_3}')\n",
    "print(f'El tamaño de la lista es: {len(number_3)}')"
   ]
  },
  {
   "cell_type": "code",
   "execution_count": 9,
   "id": "5d23669f",
   "metadata": {},
   "outputs": [],
   "source": [
    "def agregarAlFinal (valor):\n",
    "    number_3[-1] = valor"
   ]
  },
  {
   "cell_type": "code",
   "execution_count": 24,
   "id": "8b61710e",
   "metadata": {},
   "outputs": [
    {
     "name": "stdout",
     "output_type": "stream",
     "text": [
      "La lista original es: [123, 8, 4, 1, 11]\n",
      "El tamaño de la lista es: 5\n"
     ]
    }
   ],
   "source": [
    "agregarAlFinal(11)\n",
    "print(f'La lista original es: {number_3}')\n",
    "print(f'El tamaño de la lista es: {len(number_3)}')"
   ]
  },
  {
   "cell_type": "code",
   "execution_count": null,
   "id": "6d04d21d",
   "metadata": {},
   "outputs": [
    {
     "name": "stdout",
     "output_type": "stream",
     "text": [
      "La lista actual es: [123, 8, 4, 1, 11]\n",
      "La lista original es: [123, 8, 4, 1, 11]\n",
      "El tamaño de la lista es: 5\n"
     ]
    }
   ],
   "source": [
    "# Metodo insert\n",
    "print(f'La lista original es: {number_3}')\n",
    "print(f'El tamaño de la lista es: {len(number_3)}')"
   ]
  },
  {
   "cell_type": "code",
   "execution_count": 27,
   "id": "8cc3d48f",
   "metadata": {},
   "outputs": [
    {
     "name": "stdout",
     "output_type": "stream",
     "text": [
      "La lista original es: [222, 123, 8, 4, 1, 11]\n",
      "El tamaño de la lista es: 6\n"
     ]
    }
   ],
   "source": [
    "number_3.insert(0, 222)\n",
    "print(f'La lista original es: {number_3}')\n",
    "print(f'El tamaño de la lista es: {len(number_3)}')"
   ]
  },
  {
   "cell_type": "code",
   "execution_count": 30,
   "id": "3e5f8edd",
   "metadata": {},
   "outputs": [
    {
     "name": "stdout",
     "output_type": "stream",
     "text": [
      "La lista es: [1, 2, 3, 4, 5, 6, 7, 8, 9, 10]\n"
     ]
    }
   ],
   "source": [
    "def llenar_lista_append(valor):\n",
    "    my_list = [] # crear una lista vacia\n",
    "    for i in range(valor):\n",
    "        my_list.append(i+1)\n",
    "    return my_list\n",
    "\n",
    "def imprimir_lista (lista):\n",
    "    print(f'La lista es: {lista}')\n",
    "\n",
    "lista = llenar_lista_append(10)\n",
    "imprimir_lista(lista)"
   ]
  },
  {
   "cell_type": "code",
   "execution_count": 31,
   "id": "15801886",
   "metadata": {},
   "outputs": [
    {
     "name": "stdout",
     "output_type": "stream",
     "text": [
      "[5, 4, 3, 2, 1]\n"
     ]
    }
   ],
   "source": [
    "my_list =[]\n",
    "\n",
    "for i in range(5):\n",
    "    my_list.insert(0,i+1)\n",
    "\n",
    "print(my_list)"
   ]
  },
  {
   "cell_type": "code",
   "execution_count": 32,
   "id": "633a5d49",
   "metadata": {},
   "outputs": [
    {
     "name": "stdout",
     "output_type": "stream",
     "text": [
      "10\n",
      "1\n",
      "8\n",
      "3\n",
      "5\n"
     ]
    }
   ],
   "source": [
    "# Recorer la lista con un ciclo\n",
    "\n",
    "mi_lista = [10,1,8,3,5]\n",
    "\n",
    "for i in mi_lista:\n",
    "    print(i)"
   ]
  },
  {
   "cell_type": "code",
   "execution_count": 33,
   "id": "ace05712",
   "metadata": {},
   "outputs": [
    {
     "name": "stdout",
     "output_type": "stream",
     "text": [
      "La suma de los valores de la lista es: 27\n"
     ]
    }
   ],
   "source": [
    "# Sumar los valores de la lista\n",
    "\n",
    "total = 0\n",
    "for i in mi_lista:\n",
    "    total+=i\n",
    "\n",
    "print(f'La suma de los valores de la lista es: {total}')"
   ]
  },
  {
   "cell_type": "markdown",
   "id": "50f864b9",
   "metadata": {},
   "source": [
    "#### Realizar un programa que permita almacenar varias calificaciones en una lista para después poder sacar el promedio de ells, utilizando una función"
   ]
  },
  {
   "cell_type": "code",
   "execution_count": 4,
   "id": "b4dd5397",
   "metadata": {},
   "outputs": [],
   "source": [
    "def guardar_calificaciones (numero):\n",
    "    lista_calificaciones = []\n",
    "    i=1\n",
    "    for i in range(numero):\n",
    "        calificacion = float(input(f'Solicitar la calificación {i}'))\n",
    "        lista_calificaciones.append(calificacion)\n",
    "\n",
    "    return lista_calificaciones"
   ]
  },
  {
   "cell_type": "code",
   "execution_count": 5,
   "id": "5143e4ca",
   "metadata": {},
   "outputs": [
    {
     "name": "stdout",
     "output_type": "stream",
     "text": [
      "[8.8, 9.9, 7.8, 10.0, 5.4]\n"
     ]
    }
   ],
   "source": [
    "lista = guardar_calificaciones(5)\n",
    "print(lista)"
   ]
  },
  {
   "cell_type": "code",
   "execution_count": 2,
   "id": "f0712bc8",
   "metadata": {},
   "outputs": [],
   "source": [
    "def guardar_calificaciones (numero):\n",
    "    lista_calificaciones = []\n",
    "    i=1\n",
    "    while i<=numero:\n",
    "        calificacion = float(input(f'Solicitar la calificación {i}'))\n",
    "        lista_calificaciones.append(calificacion)\n",
    "        i+=1\n",
    "\n",
    "    return lista_calificaciones"
   ]
  },
  {
   "cell_type": "code",
   "execution_count": 3,
   "id": "3c39bfc1",
   "metadata": {},
   "outputs": [
    {
     "name": "stdout",
     "output_type": "stream",
     "text": [
      "[8.0, 7.7, 6.8, 5.0, 9.9]\n"
     ]
    }
   ],
   "source": [
    "lista = guardar_calificaciones(5)\n",
    "print(lista)"
   ]
  },
  {
   "cell_type": "markdown",
   "id": "eabe0e50",
   "metadata": {},
   "source": [
    "## Lista en acción\n",
    "\n",
    "Imagina que necesitas reorganizar los elementos de una lista, es decir, revertir el orden de los elementos: El primero y el quinto, asi como el segundo y el cuarto elemento serán intercambiados, el tercero permanecera intacto.\n",
    "\n",
    "Pregunta: ¿Cómo se pueden intercambiar los valores de dos variables?"
   ]
  },
  {
   "cell_type": "code",
   "execution_count": 7,
   "id": "09f00f3b",
   "metadata": {},
   "outputs": [
    {
     "name": "stdout",
     "output_type": "stream",
     "text": [
      "1\n",
      "1\n"
     ]
    }
   ],
   "source": [
    "variable_1 = 1\n",
    "variable_2 = 2\n",
    "\n",
    "variable_2 = variable_1\n",
    "variable_1 = variable_2\n",
    "\n",
    "print(variable_1)\n",
    "print(variable_2)"
   ]
  },
  {
   "cell_type": "code",
   "execution_count": 8,
   "id": "7da3f305",
   "metadata": {},
   "outputs": [
    {
     "name": "stdout",
     "output_type": "stream",
     "text": [
      "1\n",
      "2\n",
      "1\n"
     ]
    }
   ],
   "source": [
    "variable_1 = 1\n",
    "variable_2 = 2\n",
    "\n",
    "aux = variable_1\n",
    "variable_1 = variable_2\n",
    "variable_2 = aux\n",
    "\n",
    "print(aux)\n",
    "print(variable_1)\n",
    "print(variable_2)"
   ]
  },
  {
   "cell_type": "code",
   "execution_count": 5,
   "id": "c11137fa",
   "metadata": {},
   "outputs": [
    {
     "name": "stdout",
     "output_type": "stream",
     "text": [
      "El valor de la variable_1 es: 2\n",
      " El valor de la variable_2 es: 1\n"
     ]
    }
   ],
   "source": [
    "variable_1 = 1\n",
    "variable_2 = 2\n",
    "\n",
    "variable_1, variable_2 = variable_2, variable_1\n",
    "\n",
    "print(f'El valor de la variable_1 es: {variable_1}\\n El valor de la variable_2 es: {variable_2}')"
   ]
  },
  {
   "cell_type": "markdown",
   "id": "395a1dd3",
   "metadata": {},
   "source": [
    "Teniendo una lista llamada mi_lista con valores 10,1,8,3,5. Intercambiar el 10 por el 5 y viceversa."
   ]
  },
  {
   "cell_type": "code",
   "execution_count": 11,
   "id": "02d0e336",
   "metadata": {},
   "outputs": [
    {
     "name": "stdout",
     "output_type": "stream",
     "text": [
      "[5, 3, 8, 1, 10]\n"
     ]
    }
   ],
   "source": [
    "mi_lista = [10,1,8,3,5]\n",
    "mi_lista[0], mi_lista[4] = mi_lista[4], mi_lista[0]\n",
    "mi_lista[1], mi_lista[3] = mi_lista[3], mi_lista[1]\n",
    "\n",
    "print(mi_lista)"
   ]
  }
 ],
 "metadata": {
  "kernelspec": {
   "display_name": "Python 3",
   "language": "python",
   "name": "python3"
  },
  "language_info": {
   "codemirror_mode": {
    "name": "ipython",
    "version": 3
   },
   "file_extension": ".py",
   "mimetype": "text/x-python",
   "name": "python",
   "nbconvert_exporter": "python",
   "pygments_lexer": "ipython3",
   "version": "3.13.3"
  }
 },
 "nbformat": 4,
 "nbformat_minor": 5
}
