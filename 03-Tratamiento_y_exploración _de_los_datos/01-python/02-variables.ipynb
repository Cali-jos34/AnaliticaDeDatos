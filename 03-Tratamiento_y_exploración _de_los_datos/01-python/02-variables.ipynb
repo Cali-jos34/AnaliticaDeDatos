{
 "cells": [
  {
   "cell_type": "markdown",
   "id": "b1beac28",
   "metadata": {},
   "source": [
    "## Ejemplo 2: VARIABLES\n",
    "\n",
    "### 1 Objetivos:\n",
    "\n",
    "- Entender cuál es la sintaxis de la asignación de variables en python.\n",
    "- Aprender la convención de nombramiento de variables"
   ]
  },
  {
   "cell_type": "markdown",
   "id": "95d011f5",
   "metadata": {},
   "source": [
    "### 2. Desarrollo\n",
    "\n",
    "Los siguientes nombres son nombres posibles de variables en Python\n",
    "\n",
    "- var_1\n",
    "- variable_2\n",
    "- variable_dos\n",
    "- variable_nueva_tres\n",
    "- esta_es_una_variable_nueva_cuatro"
   ]
  },
  {
   "cell_type": "markdown",
   "id": "d0b24c71",
   "metadata": {},
   "source": [
    "Los siguientes nombres son nombres invalidos para una variable en python:\n",
    "\n",
    "- 1_2\n",
    "- 1_variable\n",
    "- variableDos\n",
    "- EstaEsUnaVariable\n",
    "- Soy una variable"
   ]
  },
  {
   "cell_type": "markdown",
   "id": "8006b09d",
   "metadata": {},
   "source": [
    "Asignemos unas cuantas variables:"
   ]
  },
  {
   "cell_type": "code",
   "execution_count": 6,
   "id": "f81b582c",
   "metadata": {},
   "outputs": [],
   "source": [
    "var_1 = 3\n",
    "var_2 = 6\n",
    "variable_3 = 10\n",
    "variable_nueva_4 = 20"
   ]
  },
  {
   "cell_type": "markdown",
   "id": "e50e4943",
   "metadata": {},
   "source": [
    "Podemos acceder a su contenido con tan solo escribir el nombre de la variable en una celda y correrla."
   ]
  },
  {
   "cell_type": "code",
   "execution_count": 7,
   "id": "5393f191",
   "metadata": {},
   "outputs": [
    {
     "data": {
      "text/plain": [
       "3"
      ]
     },
     "execution_count": 7,
     "metadata": {},
     "output_type": "execute_result"
    }
   ],
   "source": [
    "var_1"
   ]
  },
  {
   "cell_type": "code",
   "execution_count": 8,
   "id": "5326c75c",
   "metadata": {},
   "outputs": [
    {
     "data": {
      "text/plain": [
       "20"
      ]
     },
     "execution_count": 8,
     "metadata": {},
     "output_type": "execute_result"
    }
   ],
   "source": [
    "variable_nueva_4"
   ]
  },
  {
   "cell_type": "markdown",
   "id": "df44f378",
   "metadata": {},
   "source": [
    "Si intento llamar una variable que no se ha asignado o que no existe, JN va a lanzar un error."
   ]
  },
  {
   "cell_type": "code",
   "execution_count": 9,
   "id": "746ae1e8",
   "metadata": {},
   "outputs": [
    {
     "ename": "NameError",
     "evalue": "name 'var_5' is not defined",
     "output_type": "error",
     "traceback": [
      "\u001b[31m---------------------------------------------------------------------------\u001b[39m",
      "\u001b[31mNameError\u001b[39m                                 Traceback (most recent call last)",
      "\u001b[36mCell\u001b[39m\u001b[36m \u001b[39m\u001b[32mIn[9]\u001b[39m\u001b[32m, line 1\u001b[39m\n\u001b[32m----> \u001b[39m\u001b[32m1\u001b[39m \u001b[43mvar_5\u001b[49m\n",
      "\u001b[31mNameError\u001b[39m: name 'var_5' is not defined"
     ]
    }
   ],
   "source": [
    "var_5"
   ]
  },
  {
   "cell_type": "markdown",
   "id": "9d42898f",
   "metadata": {},
   "source": [
    "De igual manera, si se escribe una asignación, pero no se corre la celda, esa variable no estara disponible para el notebook mas adelante."
   ]
  },
  {
   "cell_type": "code",
   "execution_count": 10,
   "id": "e6ff8882",
   "metadata": {},
   "outputs": [],
   "source": [
    "var_2 = 89"
   ]
  },
  {
   "cell_type": "code",
   "execution_count": 11,
   "id": "1222672b",
   "metadata": {},
   "outputs": [
    {
     "data": {
      "text/plain": [
       "89"
      ]
     },
     "execution_count": 11,
     "metadata": {},
     "output_type": "execute_result"
    }
   ],
   "source": [
    "var_2"
   ]
  },
  {
   "cell_type": "markdown",
   "id": "f7189108",
   "metadata": {},
   "source": [
    "## Reto 1: Variables\n",
    "\n",
    "### 1. Objetivos:\n",
    "    - Practicar convención de nombramiento y asignación de variables\n",
    "\n",
    "### 2. Desarrollo:\n",
    "\n",
    "Realizar la siguiente practica"
   ]
  },
  {
   "cell_type": "code",
   "execution_count": 12,
   "id": "d0f7c8b8",
   "metadata": {},
   "outputs": [],
   "source": [
    "# Asigna el numero 12345 a una variable llamada variable locochona\n",
    "\n",
    "variable_locochona = 12345\n",
    "\n",
    "# Asigna el numero 14.567 a la variable var decimal\n",
    "\n",
    "var_decimal = 14.567\n",
    "\n",
    "# Asigna un numero cualquiera a una variable que tenga 5 palabras en su nombre\n",
    "\n",
    "una_variable_con_cinco_palabras = 9876\n",
    "\n",
    "# Asigna cualquier numero a una variable que incluye palabras y numeros en su nombre \n",
    "\n",
    "Variable_numero_4 = 5432"
   ]
  }
 ],
 "metadata": {
  "kernelspec": {
   "display_name": "Python 3",
   "language": "python",
   "name": "python3"
  },
  "language_info": {
   "codemirror_mode": {
    "name": "ipython",
    "version": 3
   },
   "file_extension": ".py",
   "mimetype": "text/x-python",
   "name": "python",
   "nbconvert_exporter": "python",
   "pygments_lexer": "ipython3",
   "version": "3.13.3"
  }
 },
 "nbformat": 4,
 "nbformat_minor": 5
}
