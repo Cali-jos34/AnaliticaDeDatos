{
 "cells": [
  {
   "cell_type": "markdown",
   "id": "c311f52c",
   "metadata": {},
   "source": [
    "ctr + k + u >>> se combierte en comentario\n",
    "ctr + k + u >>> se quita el comentario"
   ]
  },
  {
   "cell_type": "markdown",
   "id": "a3bda6a0",
   "metadata": {},
   "source": [
    "## Operaciones númericas\n",
    "\n",
    "### Objetivos\n",
    "\n",
    "- Mostrar como utilizar los operadores aritméticos.\n",
    "\n",
    "### Desarrollo"
   ]
  },
  {
   "cell_type": "markdown",
   "id": "aeb74772",
   "metadata": {},
   "source": [
    "Primero vamos asignar unas variables"
   ]
  },
  {
   "cell_type": "code",
   "execution_count": 2,
   "id": "673909f7",
   "metadata": {},
   "outputs": [],
   "source": [
    "var_1 = 4\n",
    "var_2 = 54\n",
    "var_3 = 23\n",
    "var_4 = 89\n"
   ]
  },
  {
   "cell_type": "code",
   "execution_count": 5,
   "id": "a189119b",
   "metadata": {},
   "outputs": [
    {
     "name": "stdout",
     "output_type": "stream",
     "text": [
      "4 54 23 89.4-54-23-89\n",
      "El valor de la variable var_1: 4\n",
      "El valor de la variable var_1:  4 \n",
      "El valor de la variable var_2:  54\n"
     ]
    }
   ],
   "source": [
    "print(var_1, var_2, var_3, var_4, end='.')\n",
    "print(var_1, var_2, var_3, var_4, sep='-')\n",
    "\n",
    "print('El valor de la variable var_1: ' + str(var_1))\n",
    "print('El valor de la variable var_1: ' , var_1, '\\nEl valor de la variable var_2: ', var_2 )"
   ]
  },
  {
   "cell_type": "markdown",
   "id": "4e79837e",
   "metadata": {},
   "source": [
    "## Operaciones númericas\n",
    "\n",
    "\n",
    "----\n",
    "\n",
    "**Operadores Aritméticos**\n",
    "\n",
    "| Operador | Nombre                  | Descripción                                 | Ejemplo        | Resultado |\n",
    "|----------|-------------------------|---------------------------------------------|----------------|-----------|\n",
    "| `+`      | Suma                    | Suma de dos operandos                        | `5 + 3`        | `8`       |\n",
    "| `-`      | Resta                   | Resta del segundo operando al primero        | `5 - 3`        | `2`       |\n",
    "| `*`      | Multiplicación          | Producto de dos operandos                    | `5 * 3`        | `15`      |\n",
    "| `/`      | División                | División del primero entre el segundo       | `5 / 2`        | `2.5`     |\n",
    "| `//`     | División entera         | División y redondeo hacia abajo             | `5 // 2`       | `2`       |\n",
    "| `%`      | Módulo (residuo)        | Residuo de la división                      | `5 % 2`        | `1`       |\n",
    "| `**`     | Exponente               | Potencia del primer operando al segundo     | `2 ** 3`       | `8`       |"
   ]
  },
  {
   "cell_type": "code",
   "execution_count": 8,
   "id": "6bd9ece4",
   "metadata": {},
   "outputs": [
    {
     "data": {
      "text/plain": [
       "58"
      ]
     },
     "execution_count": 8,
     "metadata": {},
     "output_type": "execute_result"
    }
   ],
   "source": [
    "var_1 + var_2"
   ]
  },
  {
   "cell_type": "code",
   "execution_count": 9,
   "id": "ba04b71c",
   "metadata": {},
   "outputs": [
    {
     "data": {
      "text/plain": [
       "-35"
      ]
     },
     "execution_count": 9,
     "metadata": {},
     "output_type": "execute_result"
    }
   ],
   "source": [
    "var_2 - var_4"
   ]
  },
  {
   "cell_type": "code",
   "execution_count": null,
   "id": "7f6591cd",
   "metadata": {},
   "outputs": [
    {
     "data": {
      "text/plain": [
       "92"
      ]
     },
     "execution_count": 10,
     "metadata": {},
     "output_type": "execute_result"
    }
   ],
   "source": [
    "\n",
    "var_3 * var_1"
   ]
  },
  {
   "cell_type": "code",
   "execution_count": 11,
   "id": "f5b61901",
   "metadata": {},
   "outputs": [
    {
     "data": {
      "text/plain": [
       "1.6481481481481481"
      ]
     },
     "execution_count": 11,
     "metadata": {},
     "output_type": "execute_result"
    }
   ],
   "source": [
    "var_4 / var_2"
   ]
  },
  {
   "cell_type": "code",
   "execution_count": 12,
   "id": "3f00c3f0",
   "metadata": {},
   "outputs": [
    {
     "data": {
      "text/plain": [
       "1"
      ]
     },
     "execution_count": 12,
     "metadata": {},
     "output_type": "execute_result"
    }
   ],
   "source": [
    "var_4 // var_2"
   ]
  },
  {
   "cell_type": "code",
   "execution_count": 13,
   "id": "40988b1e",
   "metadata": {},
   "outputs": [
    {
     "data": {
      "text/plain": [
       "8503056"
      ]
     },
     "execution_count": 13,
     "metadata": {},
     "output_type": "execute_result"
    }
   ],
   "source": [
    "var_2 ** var_1"
   ]
  },
  {
   "cell_type": "code",
   "execution_count": 14,
   "id": "891e50e2",
   "metadata": {},
   "outputs": [
    {
     "data": {
      "text/plain": [
       "0"
      ]
     },
     "execution_count": 14,
     "metadata": {},
     "output_type": "execute_result"
    }
   ],
   "source": [
    "var_1 = 10\n",
    "var_2 = 2\n",
    "\n",
    "var_1 % var_2"
   ]
  },
  {
   "cell_type": "code",
   "execution_count": 15,
   "id": "e2f825bf",
   "metadata": {},
   "outputs": [
    {
     "name": "stdout",
     "output_type": "stream",
     "text": [
      "12\n",
      "20\n",
      "100\n"
     ]
    }
   ],
   "source": [
    "print(var_1 + var_2)\n",
    "print(var_1 * var_2)\n",
    "print(var_1 ** var_2)"
   ]
  },
  {
   "cell_type": "markdown",
   "id": "724cceab",
   "metadata": {},
   "source": [
    "Tambien se puede asignar los resultados de las operaciones a otras variables"
   ]
  },
  {
   "cell_type": "code",
   "execution_count": 16,
   "id": "f4a61826",
   "metadata": {},
   "outputs": [
    {
     "data": {
      "text/plain": [
       "33"
      ]
     },
     "execution_count": 16,
     "metadata": {},
     "output_type": "execute_result"
    }
   ],
   "source": [
    "resultado = var_1 + var_3\n",
    "resultado"
   ]
  }
 ],
 "metadata": {
  "kernelspec": {
   "display_name": "Python 3",
   "language": "python",
   "name": "python3"
  },
  "language_info": {
   "codemirror_mode": {
    "name": "ipython",
    "version": 3
   },
   "file_extension": ".py",
   "mimetype": "text/x-python",
   "name": "python",
   "nbconvert_exporter": "python",
   "pygments_lexer": "ipython3",
   "version": "3.13.3"
  }
 },
 "nbformat": 4,
 "nbformat_minor": 5
}
