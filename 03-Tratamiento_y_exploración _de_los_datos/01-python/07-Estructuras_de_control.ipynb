{
 "cells": [
  {
   "cell_type": "markdown",
   "id": "48a2eb3f",
   "metadata": {},
   "source": [
    "## Estructuras de Control\n",
    "\n",
    "### Objetivos\n",
    "\n",
    "    - Conocer las estructuras de control, como funciona y para que sirven\n",
    "\n",
    "---\n",
    "### Desarrollo\n",
    "Queremos darle a nuestro programa la capacidad de tomar decisiones. Esto puede hacerse utilizando una `sentencia if`.\n",
    "\n",
    "Utiliza una comparación para obtener un booleano es `True`, el bloque de la sentencia se ejecuta. Si el booleano es `False` nos saltamos a lo que sigue después del bloque."
   ]
  },
  {
   "cell_type": "code",
   "execution_count": 1,
   "id": "4a004a37",
   "metadata": {},
   "outputs": [],
   "source": [
    "var_1 = 4\n",
    "var_2 = 5"
   ]
  },
  {
   "cell_type": "code",
   "execution_count": 2,
   "id": "2881fd03",
   "metadata": {},
   "outputs": [
    {
     "name": "stdout",
     "output_type": "stream",
     "text": [
      "El bloque se ha ejecutado\n"
     ]
    }
   ],
   "source": [
    "if var_1 < var_2:\n",
    "    print(\"El bloque se ha ejecutado\")"
   ]
  },
  {
   "cell_type": "code",
   "execution_count": 3,
   "id": "c8e90d2a",
   "metadata": {},
   "outputs": [
    {
     "name": "stdout",
     "output_type": "stream",
     "text": [
      "El numero 4 es menor que el numero 5\n"
     ]
    }
   ],
   "source": [
    "var_1 = int(input(\"Introduce el valor\"))\n",
    "var_2 = int(input(\"Introduce el valor\"))\n",
    "\n",
    "if var_1 < var_2:\n",
    "    print(f\"El numero {var_1} es menor que el numero {var_2}\")"
   ]
  },
  {
   "cell_type": "code",
   "execution_count": 4,
   "id": "b53c26c7",
   "metadata": {},
   "outputs": [],
   "source": [
    "# Funcion que solicita un valor\n",
    "\n",
    "def solicitar ():\n",
    "    return  int(input(\"Introduce el valor\"))"
   ]
  },
  {
   "cell_type": "code",
   "execution_count": 5,
   "id": "121e1502",
   "metadata": {},
   "outputs": [],
   "source": [
    "def comparar (valor_uno, valor_dos):\n",
    "    if valor_uno < valor_dos:\n",
    "         print(f\"El numero {var_1} es menor que el numero {var_2}\")"
   ]
  },
  {
   "cell_type": "code",
   "execution_count": 6,
   "id": "b36b2d95",
   "metadata": {},
   "outputs": [
    {
     "name": "stdout",
     "output_type": "stream",
     "text": [
      "El numero 4 es menor que el numero 5\n"
     ]
    },
    {
     "data": {
      "text/plain": [
       "4"
      ]
     },
     "execution_count": 6,
     "metadata": {},
     "output_type": "execute_result"
    }
   ],
   "source": [
    "# Ejecucion de las funciones\n",
    "\n",
    "var_1 = solicitar()\n",
    "var_2 = solicitar()\n",
    "\n",
    "comparar(var_1, var_2)\n",
    "4"
   ]
  },
  {
   "cell_type": "markdown",
   "id": "76d50094",
   "metadata": {},
   "source": [
    "1. **Desarrollar un programa que determine si un numero es positivo**\n",
    "2. **Desarrollar un programa que determine si puedes votar, la edad minima es 18**\n",
    "3. **Verificar si un número es par**\n",
    "4. **Realizar la simulacion de un login en el cual se debe verificar si la contraseña es correcta**\n",
    "5. **Realizar un programa que determine si un alumno esta aprobado, la calificación minima es 7**\n",
    "\n",
    "Todos los datos deben ser solicitados"
   ]
  },
  {
   "cell_type": "code",
   "execution_count": 7,
   "id": "b72e27e5",
   "metadata": {},
   "outputs": [
    {
     "name": "stdout",
     "output_type": "stream",
     "text": [
      "El número es positivo\n"
     ]
    }
   ],
   "source": [
    "# 1. Desarrollar un programa que determine si un numero es positivo\n",
    "\n",
    "var_1 = int(input(\"Introduce el valor\"))\n",
    "\n",
    "if var_1 >= 0:\n",
    "    print(\"El número es positivo\")"
   ]
  },
  {
   "cell_type": "code",
   "execution_count": 12,
   "id": "2c01acd4",
   "metadata": {},
   "outputs": [
    {
     "name": "stdout",
     "output_type": "stream",
     "text": [
      "Puedes votar\n"
     ]
    }
   ],
   "source": [
    "# 2. Desarrollar un programa que determine si puedes votar, la edad minima es 18\n",
    "\n",
    "Edad = int(input(\"Introduce el valor\"))\n",
    "\n",
    "if Edad >= 18:\n",
    "    print(\"Puedes votar\")"
   ]
  },
  {
   "cell_type": "code",
   "execution_count": 9,
   "id": "b7e76691",
   "metadata": {},
   "outputs": [
    {
     "name": "stdout",
     "output_type": "stream",
     "text": [
      "El número es par\n"
     ]
    }
   ],
   "source": [
    "# 3. Verificar si un número es par\n",
    "\n",
    "var_1 = int(input(\"Introduce el valor\"))\n",
    "var_2 = var_1 % 2\n",
    "\n",
    "if var_2 == 0:\n",
    "    print(\"El número es par\")\n"
   ]
  },
  {
   "cell_type": "code",
   "execution_count": 13,
   "id": "284440a1",
   "metadata": {},
   "outputs": [
    {
     "name": "stdout",
     "output_type": "stream",
     "text": [
      "Contraseña correcta\n",
      "Hola Cali\n"
     ]
    }
   ],
   "source": [
    "# 4. Realizar la simulacion de un login en el cual se debe verificar si la contraseña es correcta\n",
    "\n",
    "usuario = input(\"Introduce tu usuario\")\n",
    "contraseña = int(input(\"Introduce tu contraseña\"))\n",
    "\n",
    "if contraseña != 123:\n",
    "    print(\"Contraseña incorrecta\")\n",
    "else:\n",
    "    print(\"Contraseña correcta\")\n",
    "    print(f\"Hola {usuario}\")\n"
   ]
  },
  {
   "cell_type": "code",
   "execution_count": 14,
   "id": "7132363a",
   "metadata": {},
   "outputs": [
    {
     "name": "stdout",
     "output_type": "stream",
     "text": [
      "APROBADO\n"
     ]
    }
   ],
   "source": [
    "# 5. Realizar un programa que determine si un alumno esta aprobado, la calificación minima es 7\n",
    "\n",
    "calificación = int(input(\"Introduce el valor\"))\n",
    "\n",
    "if calificación >= 7:\n",
    "    print(\"APROBADO\")"
   ]
  },
  {
   "cell_type": "markdown",
   "id": "51c33c0e",
   "metadata": {},
   "source": [
    "OPERADORES LOGICOS\n",
    "\n",
    "### Operador or\n",
    "\n",
    "| A   | B   | A or B |\n",
    "|-----|-----|--------|\n",
    "| F   | F   | F      |\n",
    "| T   | F   | T      |\n",
    "| F   | T   | T      |\n",
    "| T   | T   | T      |\n",
    "\n",
    "### Operador and\n",
    "\n",
    "| A   | B   | A and B |\n",
    "|-----|-----|---------|\n",
    "| F   | F   | F       |\n",
    "| T   | F   | F       |\n",
    "| F   | T   | F       |\n",
    "| T   | T   | T       |\n",
    "\n",
    "### Operador not\n",
    "\n",
    "| A   | not A |\n",
    "|-----|--------|\n",
    "| F   | T      |\n",
    "| T   | F      |\n",
    "\n",
    "### Operador nor (equivale a not (A or B))\n",
    "\n",
    "| A   | B   | A or B | not (A or B) = NOR |\n",
    "|-----|-----|--------|--------------------|\n",
    "| F   | F   | F      | T                  |\n",
    "| T   | F   | T      | F                  |\n",
    "| F   | T   | T      | F                  |\n",
    "| T   | T   | T      | F                  |"
   ]
  },
  {
   "cell_type": "code",
   "execution_count": 16,
   "id": "8822774a",
   "metadata": {},
   "outputs": [
    {
     "data": {
      "text/plain": [
       "True"
      ]
     },
     "execution_count": 16,
     "metadata": {},
     "output_type": "execute_result"
    }
   ],
   "source": [
    "resultado = 4>5 or 5==5\n",
    "resultado "
   ]
  },
  {
   "cell_type": "code",
   "execution_count": 17,
   "id": "06dac929",
   "metadata": {},
   "outputs": [
    {
     "data": {
      "text/plain": [
       "False"
      ]
     },
     "execution_count": 17,
     "metadata": {},
     "output_type": "execute_result"
    }
   ],
   "source": [
    "resultado = 4>5 and 5==5\n",
    "resultado "
   ]
  },
  {
   "cell_type": "code",
   "execution_count": 19,
   "id": "692c7f2c",
   "metadata": {},
   "outputs": [
    {
     "data": {
      "text/plain": [
       "True"
      ]
     },
     "execution_count": 19,
     "metadata": {},
     "output_type": "execute_result"
    }
   ],
   "source": [
    "resultado = not(4>5 and 5==5)\n",
    "resultado "
   ]
  },
  {
   "cell_type": "code",
   "execution_count": 21,
   "id": "d8453a8f",
   "metadata": {},
   "outputs": [
    {
     "data": {
      "text/plain": [
       "True"
      ]
     },
     "execution_count": 21,
     "metadata": {},
     "output_type": "execute_result"
    }
   ],
   "source": [
    "resultado = not 4>5 or 5==5\n",
    "resultado "
   ]
  },
  {
   "cell_type": "code",
   "execution_count": 22,
   "id": "0285aa40",
   "metadata": {},
   "outputs": [
    {
     "data": {
      "text/plain": [
       "False"
      ]
     },
     "execution_count": 22,
     "metadata": {},
     "output_type": "execute_result"
    }
   ],
   "source": [
    "resultado = not (4>5 or 5==5)\n",
    "resultado "
   ]
  },
  {
   "cell_type": "code",
   "execution_count": 23,
   "id": "3a9d9095",
   "metadata": {},
   "outputs": [
    {
     "data": {
      "text/plain": [
       "False"
      ]
     },
     "execution_count": 23,
     "metadata": {},
     "output_type": "execute_result"
    }
   ],
   "source": [
    "resultado = not 4<5 or 5!=5\n",
    "resultado "
   ]
  },
  {
   "cell_type": "code",
   "execution_count": 24,
   "id": "75054f47",
   "metadata": {},
   "outputs": [],
   "source": [
    "x = 5\n",
    "y = 10\n",
    "resultado = x>=5 and y<=x"
   ]
  },
  {
   "cell_type": "markdown",
   "id": "3c373f34",
   "metadata": {},
   "source": [
    "1. Verificar si un numero esta en el rango de 10 y 20\n",
    "2. Verificar si un usuario tiene acceso al charlys si tiene minimo 18 años o tiene permiso especial\n",
    "3. Verificar si un número no es igual a 0\n",
    "4. Verificar si un valor esta fuera del rango de 0 y 30"
   ]
  },
  {
   "cell_type": "code",
   "execution_count": 26,
   "id": "216bdefd",
   "metadata": {},
   "outputs": [
    {
     "name": "stdout",
     "output_type": "stream",
     "text": [
      "Dentro del Rango\n"
     ]
    }
   ],
   "source": [
    "#1. Verificar si un numero esta en el rango de 10 y 20\n",
    "numero = solicitar()\n",
    "\n",
    "if numero>=10 and numero<=20:\n",
    "    print('Dentro del Rango')"
   ]
  },
  {
   "cell_type": "code",
   "execution_count": 31,
   "id": "87ac86b8",
   "metadata": {},
   "outputs": [
    {
     "name": "stdout",
     "output_type": "stream",
     "text": [
      "Puedes pasar\n"
     ]
    }
   ],
   "source": [
    "#2. Verificar si un usuario tiene acceso al charlys si tiene minimo 18 años o tiene permiso especial\n",
    "\n",
    "\n",
    "pase = solicitar()\n",
    "\n",
    "if pase>=18:\n",
    "    print('Puedes pasar')"
   ]
  },
  {
   "cell_type": "code",
   "execution_count": null,
   "id": "84e456be",
   "metadata": {},
   "outputs": [],
   "source": [
    "#3. Verificar si un número no es igual a 0\n",
    "\n",
    "numero = solicitar()\n",
    "numero = not (-10>=-1 or ==5)\n",
    "numero"
   ]
  },
  {
   "cell_type": "code",
   "execution_count": null,
   "id": "10c2a2f4",
   "metadata": {},
   "outputs": [],
   "source": [
    "#4. Verificar si un valor esta fuera del rango de 0 y 30"
   ]
  },
  {
   "cell_type": "markdown",
   "id": "7154f2f5",
   "metadata": {},
   "source": [
    "Hay veces que queremos tener una acción `default`, que queremos que suceda en caso de que la comparación sea `False`. Para esto podemos usar una sentencia `else`. Piensalo como preguntarse a uno mismo: \"Si meto mi mano en la bolsa y resulta que encuentro un billete de $50 me compro unos nachos; y si no hay nada veré una pelicula con mi amigo llorando de tristeza\""
   ]
  },
  {
   "cell_type": "code",
   "execution_count": null,
   "id": "40f436b5",
   "metadata": {},
   "outputs": [
    {
     "name": "stdout",
     "output_type": "stream",
     "text": [
      "La condición no se a cumplido, y por lo tanto yo me imprimo\n"
     ]
    }
   ],
   "source": [
    "var_1 = 4\n",
    "var_2 = 5\n",
    "\n",
    "if var_1 > var_2:\n",
    "    print(\"La condición se cumplio\")\n",
    "else: \n",
    "    print(\"La condición no se a cumplido,\" \\\n",
    "    \" y por lo tanto yo me imprimo\")"
   ]
  },
  {
   "cell_type": "code",
   "execution_count": 33,
   "id": "29a71fed",
   "metadata": {},
   "outputs": [
    {
     "name": "stdout",
     "output_type": "stream",
     "text": [
      "El número 7 es mayor al número 6\n"
     ]
    }
   ],
   "source": [
    "# Encontrar el número mas grande de dos números\n",
    "\n",
    "numero_1 = int(input('Introduce el numero 1'))\n",
    "numero_2 = int(input('Introduce el numero 2'))\n",
    "\n",
    "#Elegir el número mas grande\n",
    "\n",
    "if numero_1>numero_2:\n",
    "    print(f'El número {numero_1} es mayor al número {numero_2}')\n",
    "else:\n",
    "    print(f'El número {numero_2} es mayor al número {numero_1}')"
   ]
  },
  {
   "cell_type": "code",
   "execution_count": 35,
   "id": "7153b15a",
   "metadata": {},
   "outputs": [
    {
     "name": "stdout",
     "output_type": "stream",
     "text": [
      "El número mayor es 23\n"
     ]
    }
   ],
   "source": [
    "# Encontrar el número mas grande de dos números\n",
    "\n",
    "numero_1 = int(input('Introduce el numero 1'))\n",
    "numero_2 = int(input('Introduce el numero 2'))\n",
    "\n",
    "#Elegir el número mas grande\n",
    "\n",
    "if numero_1>numero_2:\n",
    "    numero_mayor = numero_1\n",
    "else:\n",
    "    numero_mayor = numero_2\n",
    "print(f'El número mayor es {numero_mayor}')"
   ]
  },
  {
   "cell_type": "markdown",
   "id": "552685ec",
   "metadata": {},
   "source": [
    "Si queremos que haya  mas de dos opciones, podemos agregar opciones utilizando la sentencia `elif`"
   ]
  },
  {
   "cell_type": "code",
   "execution_count": 36,
   "id": "944b8560",
   "metadata": {},
   "outputs": [
    {
     "name": "stdout",
     "output_type": "stream",
     "text": [
      "14 es mayor que 12\n"
     ]
    }
   ],
   "source": [
    "var_1 = 12\n",
    "var_2 = 14\n",
    "\n",
    "if var_1 > var_2:\n",
    "    print(f'{var_1} es mayor que {var_2}')\n",
    "elif var_2 > var_1:\n",
    "    print(f'{var_2} es mayor que {var_1}')\n",
    "else:\n",
    "    print(f'{var_1} es igual que {var_2}')"
   ]
  },
  {
   "cell_type": "markdown",
   "id": "8a50d2ad",
   "metadata": {},
   "source": [
    "#### 1. Comparaciones numéricas\n",
    "\n",
    "Vamos a imaginar que estamos analizando un conjunto de datos que contiene las ventas anuales en pesos de unos vendedores que trabajan en nuestra empresa. Obtenemos el total de ventas anuales en pesos y lo tenemos asignado a la variable ventas_anuales_totales. Escribe una estructura de control que nos diga de cuánto va a ser el bono de nuestro empleado.\n",
    "\n",
    "Si las ventas son mayores a `$`1,000,000 el bono será de 20% del sueldo; si son entre `$`700,000 y `$`1,000,000 el bono será de 15% del sueldo; entre `$`400,000 y `$`700,000 el bono será de 10% del sueldo; entre `$`100,00 y 400,000 el bono será de 5% del sueldo; y debajo de `$`100,000 el bono será del 1% del sueldo.\n",
    "\n",
    "Escribe tu estructura de control y, por ahora (más adelante tendremos más herramientas para hacer esto más interesante) imprime una string que diga de cuánto va a ser el bono.\n",
    "\n",
    "> Reto opcional: Agrega una variable sueldo que sea el sueldo de tu empleado y agrégale el porcentaje de bono a esa variable dependiendo de la condición que se cumpla. Después hasta el final imprime una string interpolada que diga algo como \"Felicidades, tu sueldo es x; tu bono es de x; y el total de sueldo con el bono incluido es de x\". ¡Para que esto funcione también debes de agregar una variable donde guardes la cantidad del bono!"
   ]
  },
  {
   "cell_type": "code",
   "execution_count": null,
   "id": "78fdeb9f",
   "metadata": {},
   "outputs": [],
   "source": [
    "ventas = float(input('Introduce las ventas'))\n",
    "\n",
    "if ventas > 1000000:\n",
    "    bono = ventas * 0.20\n",
    "elif ventas> 700000 and ventas<1000000:\n",
    "    bono = ventas * 0.15\n",
    "elif ventas> 400000 and ventas<700000:\n",
    "   bono = ventas * 0.10\n",
    "elif ventas>100000 and ventas<400000:\n",
    "    bono = ventas * 0.05\n",
    "else:\n",
    "    bono = ventas * 0.01\n"
   ]
  }
 ],
 "metadata": {
  "kernelspec": {
   "display_name": "Python 3",
   "language": "python",
   "name": "python3"
  },
  "language_info": {
   "codemirror_mode": {
    "name": "ipython",
    "version": 3
   },
   "file_extension": ".py",
   "mimetype": "text/x-python",
   "name": "python",
   "nbconvert_exporter": "python",
   "pygments_lexer": "ipython3",
   "version": "3.13.3"
  }
 },
 "nbformat": 4,
 "nbformat_minor": 5
}
