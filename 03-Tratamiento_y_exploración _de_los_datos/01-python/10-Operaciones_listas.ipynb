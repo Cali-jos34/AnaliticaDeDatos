{
 "cells": [
  {
   "cell_type": "markdown",
   "id": "12c4c2c5",
   "metadata": {},
   "source": [
    "# Operaciones con listas\n",
    "\n",
    "## Copiar una lista a otra"
   ]
  },
  {
   "cell_type": "markdown",
   "id": "00c10e71",
   "metadata": {},
   "source": [
    "FORMA INCORRECTA"
   ]
  },
  {
   "cell_type": "code",
   "execution_count": 11,
   "id": "3e01d749",
   "metadata": {},
   "outputs": [
    {
     "name": "stdout",
     "output_type": "stream",
     "text": [
      "lista_1: [1]\n",
      "lista_2: [1]\n"
     ]
    }
   ],
   "source": [
    "lista_1 = [1]\n",
    "Lista_2 = lista_1\n",
    "print(f'lista_1: {lista_1}\\nlista_2: {Lista_2}')"
   ]
  },
  {
   "cell_type": "code",
   "execution_count": 12,
   "id": "ffb687db",
   "metadata": {},
   "outputs": [],
   "source": [
    "Lista_2.append(10)"
   ]
  },
  {
   "cell_type": "code",
   "execution_count": 13,
   "id": "cc373e3f",
   "metadata": {},
   "outputs": [
    {
     "name": "stdout",
     "output_type": "stream",
     "text": [
      "[1, 10]\n"
     ]
    }
   ],
   "source": [
    "print(Lista_2)"
   ]
  },
  {
   "cell_type": "code",
   "execution_count": 14,
   "id": "41cddc03",
   "metadata": {},
   "outputs": [
    {
     "name": "stdout",
     "output_type": "stream",
     "text": [
      "[1, 10]\n"
     ]
    }
   ],
   "source": [
    "print(lista_1)"
   ]
  },
  {
   "cell_type": "markdown",
   "id": "07f9b592",
   "metadata": {},
   "source": [
    "FORMA CORRECTA\n",
    "\n",
    "Slicing o Rebanadas"
   ]
  },
  {
   "cell_type": "code",
   "execution_count": null,
   "id": "a2657215",
   "metadata": {},
   "outputs": [
    {
     "data": {
      "text/plain": [
       "[3, 4, 5, 6, 7, 8]"
      ]
     },
     "execution_count": 15,
     "metadata": {},
     "output_type": "execute_result"
    }
   ],
   "source": [
    "# SLICING\n",
    "\n",
    "list_1 = [3,4,5,6,7,8,]\n",
    "list_1[:]"
   ]
  },
  {
   "cell_type": "code",
   "execution_count": 16,
   "id": "b1b65f0f",
   "metadata": {},
   "outputs": [],
   "source": [
    "list_2 = list_1[:]"
   ]
  },
  {
   "cell_type": "code",
   "execution_count": 17,
   "id": "4509b9e1",
   "metadata": {},
   "outputs": [
    {
     "data": {
      "text/plain": [
       "[3, 4, 5, 6, 7, 8, 11]"
      ]
     },
     "execution_count": 17,
     "metadata": {},
     "output_type": "execute_result"
    }
   ],
   "source": [
    "list_2.append(11)\n",
    "list_2"
   ]
  },
  {
   "cell_type": "code",
   "execution_count": 18,
   "id": "1c89a887",
   "metadata": {},
   "outputs": [
    {
     "data": {
      "text/plain": [
       "[3, 4, 5, 6, 7, 8]"
      ]
     },
     "execution_count": 18,
     "metadata": {},
     "output_type": "execute_result"
    }
   ],
   "source": [
    "list_1"
   ]
  },
  {
   "cell_type": "code",
   "execution_count": null,
   "id": "a835a1c2",
   "metadata": {},
   "outputs": [
    {
     "name": "stdout",
     "output_type": "stream",
     "text": [
      "[4, 6, 7, 9, 12]\n"
     ]
    }
   ],
   "source": [
    "# COPY\n",
    "\n",
    "x = [4,6,7,9,12]\n",
    "y = []\n",
    "\n",
    "y = x.copy()\n",
    "\n",
    "print(y)"
   ]
  },
  {
   "cell_type": "markdown",
   "id": "224ee1f8",
   "metadata": {},
   "source": [
    "### Slicing o Rebanadas - Indices Negativos\n",
    "\n",
    "Observa el fragmento de código a continuación:\n",
    "\n",
    "`my_list[start:end]`\n",
    "\n",
    "1. **start** es el índice del primer elemento incluido en la rebanada\n",
    "2. **end** es el índice del primer elemento no incluido en la rebada"
   ]
  },
  {
   "cell_type": "code",
   "execution_count": 20,
   "id": "9ae4af0e",
   "metadata": {},
   "outputs": [
    {
     "data": {
      "text/plain": [
       "[10, 8]"
      ]
     },
     "execution_count": 20,
     "metadata": {},
     "output_type": "execute_result"
    }
   ],
   "source": [
    "my_list = [10,8,6,4,2]\n",
    "\n",
    "my_list[0:2]"
   ]
  },
  {
   "cell_type": "code",
   "execution_count": 21,
   "id": "dfc669a2",
   "metadata": {},
   "outputs": [
    {
     "name": "stdout",
     "output_type": "stream",
     "text": [
      "La lista original es [10, 8, 6, 4, 2]\n",
      "La nueva lista es [10, 8, 6]\n"
     ]
    }
   ],
   "source": [
    "lista2 = my_list[0:3]\n",
    "print(f'La lista original es {my_list}\\nLa nueva lista es {lista2}')"
   ]
  },
  {
   "cell_type": "code",
   "execution_count": 22,
   "id": "e032aceb",
   "metadata": {},
   "outputs": [
    {
     "data": {
      "text/plain": [
       "[8, 6, 4, 2]"
      ]
     },
     "execution_count": 22,
     "metadata": {},
     "output_type": "execute_result"
    }
   ],
   "source": [
    "my_list [1:]"
   ]
  },
  {
   "cell_type": "code",
   "execution_count": 23,
   "id": "bac0940b",
   "metadata": {},
   "outputs": [
    {
     "data": {
      "text/plain": [
       "[]"
      ]
     },
     "execution_count": 23,
     "metadata": {},
     "output_type": "execute_result"
    }
   ],
   "source": [
    "my_list[4:-1]"
   ]
  },
  {
   "cell_type": "code",
   "execution_count": 1,
   "id": "6c3e1973",
   "metadata": {},
   "outputs": [
    {
     "data": {
      "text/plain": [
       "[10, 4, 2]"
      ]
     },
     "execution_count": 1,
     "metadata": {},
     "output_type": "execute_result"
    }
   ],
   "source": [
    "# Dada la lista [10,8,6,4,2], eliminar los números 8 y 6\n",
    "\n",
    "lista_3 = [10,8,6,4,2]\n",
    "\n",
    "del lista_3[1:3]\n",
    "lista_3"
   ]
  },
  {
   "cell_type": "markdown",
   "id": "193038b6",
   "metadata": {},
   "source": [
    "### `pop` remueve el ultimo elemento de la lista si se llama sin argumentos"
   ]
  },
  {
   "cell_type": "code",
   "execution_count": 2,
   "id": "2656698f",
   "metadata": {},
   "outputs": [
    {
     "data": {
      "text/plain": [
       "[10, 4, 2]"
      ]
     },
     "execution_count": 2,
     "metadata": {},
     "output_type": "execute_result"
    }
   ],
   "source": [
    "lista_3"
   ]
  },
  {
   "cell_type": "code",
   "execution_count": 3,
   "id": "451757f8",
   "metadata": {},
   "outputs": [
    {
     "data": {
      "text/plain": [
       "[10, 4]"
      ]
     },
     "execution_count": 3,
     "metadata": {},
     "output_type": "execute_result"
    }
   ],
   "source": [
    "lista_3.pop()\n",
    "lista_3"
   ]
  },
  {
   "cell_type": "code",
   "execution_count": null,
   "id": "4ee46965",
   "metadata": {},
   "outputs": [],
   "source": [
    "lista_3.append(7)\n",
    "lista_3.append(5)\n",
    "lista_3.append(9)\n",
    "lista_3.append(11)"
   ]
  },
  {
   "cell_type": "code",
   "execution_count": 6,
   "id": "6b0a7f1d",
   "metadata": {},
   "outputs": [
    {
     "data": {
      "text/plain": [
       "[10, 4, 7, 5, 9, 11]"
      ]
     },
     "execution_count": 6,
     "metadata": {},
     "output_type": "execute_result"
    }
   ],
   "source": [
    "lista_3"
   ]
  },
  {
   "cell_type": "code",
   "execution_count": 7,
   "id": "d98970a7",
   "metadata": {},
   "outputs": [
    {
     "data": {
      "text/plain": [
       "[10, 4, 7, 5, 9]"
      ]
     },
     "execution_count": 7,
     "metadata": {},
     "output_type": "execute_result"
    }
   ],
   "source": [
    "lista_3.pop(5)\n",
    "lista_3"
   ]
  },
  {
   "cell_type": "code",
   "execution_count": 10,
   "id": "e5ec7c4a",
   "metadata": {},
   "outputs": [
    {
     "name": "stdout",
     "output_type": "stream",
     "text": [
      "['a', 12, True]\n",
      "<class 'list'>\n"
     ]
    }
   ],
   "source": [
    "list_example = [\"a\",12, True]\n",
    "print(list_example)\n",
    "print(type(list_example))"
   ]
  },
  {
   "cell_type": "code",
   "execution_count": 11,
   "id": "69479c0f",
   "metadata": {},
   "outputs": [
    {
     "name": "stdout",
     "output_type": "stream",
     "text": [
      "[['hallway', 100], ['kitchen', 85]]\n",
      "<class 'list'>\n"
     ]
    }
   ],
   "source": [
    "# Lista de listas\n",
    "\n",
    "list_house = [['hallway', 100],['kitchen', 85]]\n",
    "print(list_house)\n",
    "print(type(list_house))"
   ]
  },
  {
   "cell_type": "code",
   "execution_count": null,
   "id": "56b4de2e",
   "metadata": {},
   "outputs": [
    {
     "data": {
      "text/plain": [
       "'kitchen'"
      ]
     },
     "execution_count": 12,
     "metadata": {},
     "output_type": "execute_result"
    }
   ],
   "source": [
    "#Tiene acceso a la lista en la posición 1 y su elemento en la posición 0\n",
    "list_house[1][0]"
   ]
  },
  {
   "cell_type": "code",
   "execution_count": 25,
   "id": "c707b5a7",
   "metadata": {},
   "outputs": [
    {
     "name": "stdout",
     "output_type": "stream",
     "text": [
      "['heidi', 22, 'ines', 54, 'henry', 33, 'oscar', 38]\n"
     ]
    }
   ],
   "source": [
    "list_family = ['heidi', 22, 'ines', 54, 'henry',33, 'oscar', 38]\n",
    "print(list_family)"
   ]
  },
  {
   "cell_type": "code",
   "execution_count": 19,
   "id": "800ff73e",
   "metadata": {},
   "outputs": [
    {
     "name": "stdout",
     "output_type": "stream",
     "text": [
      "ines\n",
      "ines\n"
     ]
    }
   ],
   "source": [
    "# indexación (entrar a algun lugar de la lista)\n",
    "print(list_family[2]) #En positivo\n",
    "print(list_family[-6]) #En negativo"
   ]
  },
  {
   "cell_type": "code",
   "execution_count": 18,
   "id": "e5d23c9f",
   "metadata": {},
   "outputs": [
    {
     "name": "stdout",
     "output_type": "stream",
     "text": [
      "[54, 'henry']\n",
      "['heidi', 22, 'ines', 54, 'henry']\n",
      "[33, 'oscar', 38]\n"
     ]
    }
   ],
   "source": [
    "#slicing  [start : end]\n",
    "#      inclusive : exclusive\n",
    "\n",
    "print(list_family[3:5]) #No toma el ultimo digito\n",
    "print(list_family[:5]) #Desde el inicio hasta la posicion 4\n",
    "print(list_family[5:]) #Desde la posicion 5 hasta el final\n"
   ]
  },
  {
   "cell_type": "markdown",
   "id": "770f798e",
   "metadata": {},
   "source": [
    "### **Manipulando listas**"
   ]
  },
  {
   "cell_type": "code",
   "execution_count": 20,
   "id": "8df43cea",
   "metadata": {},
   "outputs": [
    {
     "name": "stdout",
     "output_type": "stream",
     "text": [
      "['heidi', 22, 'ines', 54, 'henry', 33, 'oscar', 38]\n"
     ]
    }
   ],
   "source": [
    "print(list_family)"
   ]
  },
  {
   "cell_type": "code",
   "execution_count": null,
   "id": "92caae40",
   "metadata": {},
   "outputs": [
    {
     "name": "stdout",
     "output_type": "stream",
     "text": [
      "['heidi', 22, 'ines', 54, 'henry', 33, 'oscar', 37]\n",
      "['Mayumy', 24, 'ines', 54, 'henry', 33, 'oscar', 37]\n"
     ]
    }
   ],
   "source": [
    "list_family[-1] = 37 # Cambia el ultimo elemento\n",
    "print(list_family)\n",
    "list_family[:2] = ['Mayumy', 24] # Reemplaza el elemento 0 y 1\n",
    "print(list_family)"
   ]
  },
  {
   "cell_type": "code",
   "execution_count": null,
   "id": "40da7fcb",
   "metadata": {},
   "outputs": [
    {
     "name": "stdout",
     "output_type": "stream",
     "text": [
      "['Mayumy', 24, 'ines', 54, 'henry', 33, 'oscar', 37, 'Achuchena', 12]\n",
      "['Mayumy', 24, 'ines', 'henry', 33, 'oscar', 37, 'Achuchena', 12]\n"
     ]
    }
   ],
   "source": [
    "# Agregar y remover elementos de la lsita\n",
    "#Agregar\n",
    "fam_ext = list_family + ['Achuchena', 12]\n",
    "print(fam_ext)\n",
    "\n",
    "#Eliminar\n",
    "del fam_ext[3]\n",
    "#fam_ext.pop(3)\n",
    "#fam.ext.remove(54)\n",
    "print(fam_ext)"
   ]
  },
  {
   "cell_type": "code",
   "execution_count": 42,
   "id": "65f00830",
   "metadata": {},
   "outputs": [
    {
     "name": "stdout",
     "output_type": "stream",
     "text": [
      "['hallway', 11.25, 'kitchen', 18.0, 'chill zone', 20.0, 'bedroon', 10.75, 'bathroom', 10.5, 'poolhouse', 24.5, 'garage', 15.45]\n"
     ]
    }
   ],
   "source": [
    "# ejercicio - Eliminar \"poolhouse\" y 24.5\n",
    "\n",
    "areas = ['hallway', 11.25, 'kitchen', 18.0, 'chill zone', 20.0, 'bedroon', 10.75,\n",
    "         'bathroom', 10.50, 'poolhouse', 24.5, 'garage', 15.45]\n",
    "print(areas)"
   ]
  },
  {
   "cell_type": "code",
   "execution_count": 43,
   "id": "dd889c24",
   "metadata": {},
   "outputs": [
    {
     "name": "stdout",
     "output_type": "stream",
     "text": [
      "['hallway', 11.25, 'kitchen', 18.0, 'chill zone', 20.0, 'bedroon', 10.75, 'bathroom', 10.5, 'garage', 15.45]\n"
     ]
    }
   ],
   "source": [
    "del (areas[10:12])\n",
    "print(areas)"
   ]
  },
  {
   "cell_type": "markdown",
   "id": "23c07a01",
   "metadata": {},
   "source": [
    "# Funciones y paquetes\n",
    "\n",
    "## **Función**\n",
    "\n",
    "Es una pieza de código reutilizable, destinada a resolver una tarea en particular"
   ]
  },
  {
   "cell_type": "code",
   "execution_count": 44,
   "id": "8dacba49",
   "metadata": {},
   "outputs": [
    {
     "name": "stdout",
     "output_type": "stream",
     "text": [
      "[22, 54, 33, 38, 36]\n",
      "el tamaño de la lista es 5\n",
      "el valor maximo de la lista es 54\n"
     ]
    }
   ],
   "source": [
    "list_fam = [22, 54, 33, 38, 36]\n",
    "print(list_fam)\n",
    "print(f'el tamaño de la lista es {len(list_fam)}')\n",
    "print(f'el valor maximo de la lista es {max(list_fam)}')"
   ]
  },
  {
   "cell_type": "code",
   "execution_count": 45,
   "id": "74e7b0ae",
   "metadata": {},
   "outputs": [
    {
     "data": {
      "text/plain": [
       "1.69"
      ]
     },
     "execution_count": 45,
     "metadata": {},
     "output_type": "execute_result"
    }
   ],
   "source": [
    "round(1.689,2)"
   ]
  },
  {
   "cell_type": "code",
   "execution_count": 46,
   "id": "30b0b2d6",
   "metadata": {},
   "outputs": [
    {
     "name": "stdout",
     "output_type": "stream",
     "text": [
      "Help on built-in function round in module builtins:\n",
      "\n",
      "round(number, ndigits=None)\n",
      "    Round a number to a given precision in decimal digits.\n",
      "\n",
      "    The return value is an integer if ndigits is omitted or None.  Otherwise\n",
      "    the return value has the same type as the number.  ndigits may be negative.\n",
      "\n"
     ]
    }
   ],
   "source": [
    "help(round)"
   ]
  },
  {
   "cell_type": "code",
   "execution_count": 51,
   "id": "30decd0a",
   "metadata": {},
   "outputs": [
    {
     "name": "stdout",
     "output_type": "stream",
     "text": [
      "[18.0, 20.0, 51.25]\n",
      "[18.0, 20.0, 51.25]\n",
      "[51.25, 20.0, 18.0]\n"
     ]
    }
   ],
   "source": [
    "first = [51.25 ,18.0 ,20.0]\n",
    "full_sorted = sorted(first) #Ordena de forma ascendente\n",
    "full_sorted_asc = sorted(first, reverse=False) #ascendente\n",
    "full_sorted_desc = sorted(first, reverse=True) #descendente\n",
    "\n",
    "print(full_sorted)\n",
    "print(full_sorted_asc)\n",
    "print(full_sorted_desc)\n"
   ]
  },
  {
   "cell_type": "markdown",
   "id": "95ae44fa",
   "metadata": {},
   "source": [
    "### **Metodos**\n",
    "\n",
    "En python todo es objeto. Y cada objeto tiene métodos especificos asociados\n",
    "\n",
    "- Objetos con direfentes tipos pueden tener métodos con el mismo nombre."
   ]
  },
  {
   "cell_type": "code",
   "execution_count": 56,
   "id": "78c6b724",
   "metadata": {},
   "outputs": [
    {
     "name": "stdout",
     "output_type": "stream",
     "text": [
      "Indice: 4\n",
      "Contar: 2\n"
     ]
    }
   ],
   "source": [
    "lis_fam = ['heidi', 22, 'ines', 54, 'henry',33, 'oscar', 54]\n",
    "\n",
    "print(f\"Indice: {lis_fam.index('henry')}\") # Obtiene el indice de la lista\n",
    "print(f\"Contar: {lis_fam.count(54)}\") # Contar cuantas veces aparece algo\n"
   ]
  },
  {
   "cell_type": "code",
   "execution_count": 57,
   "id": "21518e6a",
   "metadata": {},
   "outputs": [
    {
     "name": "stdout",
     "output_type": "stream",
     "text": [
      "['heidi', 22, 'ines', 54, 33, 'oscar', 54]\n"
     ]
    }
   ],
   "source": [
    "del (lis_fam[lis_fam.index(\"henry\")])\n",
    "print(lis_fam)"
   ]
  },
  {
   "cell_type": "code",
   "execution_count": 59,
   "id": "ba52c405",
   "metadata": {},
   "outputs": [
    {
     "name": "stdout",
     "output_type": "stream",
     "text": [
      "Mayumi\n"
     ]
    }
   ],
   "source": [
    "name = \"mayumi\"\n",
    "print(name.capitalize())"
   ]
  },
  {
   "cell_type": "code",
   "execution_count": 60,
   "id": "310bf653",
   "metadata": {},
   "outputs": [
    {
     "name": "stdout",
     "output_type": "stream",
     "text": [
      "Susel\n"
     ]
    }
   ],
   "source": [
    "lista_entornos = ['susel', 'brandon', 'alejandro', 'gabriel']\n",
    "lista_entornos = lista_entornos[0].capitalize()\n",
    "print(lista_entornos)"
   ]
  },
  {
   "cell_type": "code",
   "execution_count": 61,
   "id": "335df4aa",
   "metadata": {},
   "outputs": [
    {
     "name": "stdout",
     "output_type": "stream",
     "text": [
      "ma*umi\n"
     ]
    }
   ],
   "source": [
    "print(name.replace('y', '*'))"
   ]
  },
  {
   "cell_type": "code",
   "execution_count": 62,
   "id": "03bdeeee",
   "metadata": {},
   "outputs": [
    {
     "data": {
      "text/plain": [
       "'MAYUMI'"
      ]
     },
     "execution_count": 62,
     "metadata": {},
     "output_type": "execute_result"
    }
   ],
   "source": [
    "name.upper()"
   ]
  },
  {
   "cell_type": "code",
   "execution_count": 63,
   "id": "b45ed67a",
   "metadata": {},
   "outputs": [
    {
     "name": "stdout",
     "output_type": "stream",
     "text": [
      "['heidi', 22, 'ines', 54, 33, 'oscar', 54]\n",
      "[54, 'oscar', 33, 54, 'ines', 22, 'heidi']\n"
     ]
    }
   ],
   "source": [
    "print(lis_fam)\n",
    "lis_fam.reverse()\n",
    "print(lis_fam)"
   ]
  }
 ],
 "metadata": {
  "kernelspec": {
   "display_name": "Python 3",
   "language": "python",
   "name": "python3"
  },
  "language_info": {
   "codemirror_mode": {
    "name": "ipython",
    "version": 3
   },
   "file_extension": ".py",
   "mimetype": "text/x-python",
   "name": "python",
   "nbconvert_exporter": "python",
   "pygments_lexer": "ipython3",
   "version": "3.13.3"
  }
 },
 "nbformat": 4,
 "nbformat_minor": 5
}
