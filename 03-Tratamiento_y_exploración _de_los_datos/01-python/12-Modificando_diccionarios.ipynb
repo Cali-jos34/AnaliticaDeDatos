{
 "cells": [
  {
   "cell_type": "markdown",
   "id": "db95c202",
   "metadata": {},
   "source": [
    "># Modificando Diccionarios\n",
    "\n",
    "## Objetivos\n",
    "\n",
    "- Practicar los tres métodos básicos de modificación de diccionarios: **Agregar datos, modificar datos y borrar llaves**\n",
    "\n",
    "## Desarrollo: \n",
    "\n",
    "Tenemos 3 maneras básicas de moficar los diccionarios\n",
    "---"
   ]
  },
  {
   "cell_type": "markdown",
   "id": "f0765900",
   "metadata": {},
   "source": [
    "### Agregar Datos\n",
    "\n",
    "Para agregaar un dato a un diccionario ya existente, basta con llamar la llave que queremos agregar y asignar un valor"
   ]
  },
  {
   "cell_type": "code",
   "execution_count": 1,
   "id": "9a7e5d99",
   "metadata": {},
   "outputs": [],
   "source": [
    "from pprint import pprint"
   ]
  },
  {
   "cell_type": "code",
   "execution_count": 2,
   "id": "fae98b29",
   "metadata": {},
   "outputs": [
    {
     "name": "stdout",
     "output_type": "stream",
     "text": [
      "{'nombre': 'Maluma', 'tel': 5523870019, 'dir': {'colonia': 'El 61', 'calle': 'Pirineos', 'num': 69, 'cp': 42830}}\n"
     ]
    }
   ],
   "source": [
    "info_de_contacto = {\n",
    "    'nombre': 'Maluma',\n",
    "    'tel': 5523870019,\n",
    "    'dir': {\n",
    "        'colonia': 'El 61',\n",
    "        'calle': 'Pirineos',\n",
    "        'num': 69,\n",
    "        'cp': 42830\n",
    "    }\n",
    "}\n",
    "\n",
    "print(info_de_contacto)"
   ]
  },
  {
   "cell_type": "code",
   "execution_count": 4,
   "id": "acb209c1",
   "metadata": {},
   "outputs": [
    {
     "name": "stdout",
     "output_type": "stream",
     "text": [
      "{'dir': {'calle': 'Pirineos', 'colonia': 'El 61', 'cp': 42830, 'num': 69},\n",
      " 'nombre': 'Maluma',\n",
      " 'tel': 5523870019}\n"
     ]
    }
   ],
   "source": [
    "pprint(info_de_contacto)"
   ]
  },
  {
   "cell_type": "code",
   "execution_count": 5,
   "id": "c1650da6",
   "metadata": {},
   "outputs": [],
   "source": [
    "info_de_contacto['email'] = 'Maluma_hasta_abajo@regechafa.com'"
   ]
  },
  {
   "cell_type": "code",
   "execution_count": 6,
   "id": "15e8f772",
   "metadata": {},
   "outputs": [
    {
     "name": "stdout",
     "output_type": "stream",
     "text": [
      "{'dir': {'calle': 'Pirineos', 'colonia': 'El 61', 'cp': 42830, 'num': 69},\n",
      " 'email': 'Maluma_hasta_abajo@regechafa.com',\n",
      " 'nombre': 'Maluma',\n",
      " 'tel': 5523870019}\n"
     ]
    }
   ],
   "source": [
    "pprint(info_de_contacto)"
   ]
  },
  {
   "cell_type": "markdown",
   "id": "7463d2be",
   "metadata": {},
   "source": [
    "## Modificar pares llave-valor existentes\n",
    "\n",
    "Para modificar un par llave-valor ya existente, basta con reasignar a una llave de nuestro diccionario el nuevo valor que queremos agregar. Por ejemplo, imaginemos que esta persona cambio de dirección"
   ]
  },
  {
   "cell_type": "code",
   "execution_count": 7,
   "id": "9ced7673",
   "metadata": {},
   "outputs": [
    {
     "name": "stdout",
     "output_type": "stream",
     "text": [
      "{'dir': {'calle': 'Progreso',\n",
      "         'colonia': 'Escandalo',\n",
      "         'cp': '11800',\n",
      "         'num': 189},\n",
      " 'email': 'Maluma_hasta_abajo@regechafa.com',\n",
      " 'nombre': 'Maluma',\n",
      " 'tel': 5523870019}\n"
     ]
    }
   ],
   "source": [
    "info_de_contacto['dir'] = {\n",
    "    'colonia': 'Escandalo',\n",
    "    'calle': 'Progreso',\n",
    "    'num': 189,\n",
    "    'cp': '11800'\n",
    "}\n",
    "\n",
    "pprint(info_de_contacto)"
   ]
  },
  {
   "cell_type": "code",
   "execution_count": 9,
   "id": "b5b51f88",
   "metadata": {},
   "outputs": [
    {
     "name": "stdout",
     "output_type": "stream",
     "text": [
      "{'dir': {'calle': 'Progreso', 'colonia': 'Salte', 'cp': '11800', 'num': 189},\n",
      " 'email': 'Maluma_hasta_abajo@regechafa.com',\n",
      " 'nombre': 'Maluma',\n",
      " 'tel': 5523870019}\n"
     ]
    }
   ],
   "source": [
    "info_de_contacto['dir']['colonia'] = 'Salte'\n",
    "\n",
    "pprint(info_de_contacto)"
   ]
  },
  {
   "cell_type": "markdown",
   "id": "87709bbd",
   "metadata": {},
   "source": [
    "Podemos incluso modificar estructuras de datos dentro de nuestro diccionario. Por ejemplo, ¿qué tal si hubo un error al agregar la nueva dirección y ahora tenemos que cambiar solamente el numero:"
   ]
  },
  {
   "cell_type": "code",
   "execution_count": 10,
   "id": "e4b89a42",
   "metadata": {},
   "outputs": [
    {
     "name": "stdout",
     "output_type": "stream",
     "text": [
      "{'dir': {'calle': 'Progreso', 'colonia': 'Salte', 'cp': '11800', 'num': 666},\n",
      " 'email': 'Maluma_hasta_abajo@regechafa.com',\n",
      " 'nombre': 'Maluma',\n",
      " 'tel': 5523870019}\n"
     ]
    }
   ],
   "source": [
    "info_de_contacto['dir']['num'] = 666\n",
    "\n",
    "pprint(info_de_contacto)"
   ]
  },
  {
   "cell_type": "markdown",
   "id": "e97b5c00",
   "metadata": {},
   "source": [
    "### Eliminando datos\n",
    "\n",
    "Para eliminar datos, se puede usar el metodo pop. Como se recordará, el nombre de este metodo es identico al metodo para eliminar elementos de una lista. La diferencia es que el método `pop` de las istas recibe indices como argumentos, el método `pop` de diccionarios como argumentos:"
   ]
  },
  {
   "cell_type": "code",
   "execution_count": 11,
   "id": "960a5657",
   "metadata": {},
   "outputs": [
    {
     "name": "stdout",
     "output_type": "stream",
     "text": [
      "{'dir': {'calle': 'Progreso', 'colonia': 'Salte', 'cp': '11800', 'num': 666},\n",
      " 'email': 'Maluma_hasta_abajo@regechafa.com',\n",
      " 'nombre': 'Maluma'}\n"
     ]
    }
   ],
   "source": [
    "info_de_contacto.pop('tel')\n",
    "pprint(info_de_contacto)"
   ]
  }
 ],
 "metadata": {
  "kernelspec": {
   "display_name": "Python 3",
   "language": "python",
   "name": "python3"
  },
  "language_info": {
   "codemirror_mode": {
    "name": "ipython",
    "version": 3
   },
   "file_extension": ".py",
   "mimetype": "text/x-python",
   "name": "python",
   "nbconvert_exporter": "python",
   "pygments_lexer": "ipython3",
   "version": "3.13.3"
  }
 },
 "nbformat": 4,
 "nbformat_minor": 5
}
