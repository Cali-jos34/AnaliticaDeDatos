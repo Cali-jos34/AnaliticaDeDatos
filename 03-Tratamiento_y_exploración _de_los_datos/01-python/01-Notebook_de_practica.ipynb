{
 "cells": [
  {
   "cell_type": "markdown",
   "id": "fd0bfb77",
   "metadata": {},
   "source": [
    "#ejemplo 1: Esto es un notebook de practica.\n",
    "\n",
    "---\n",
    "### Objetivos:\n",
    "    - Repasar rapidamente como funciona un Jupyter notebook\n",
    "\n",
    "### Requisitos\n",
    "    - Jupyter notebook instalado\n",
    "--- "
   ]
  },
  {
   "cell_type": "markdown",
   "id": "c30d49d4",
   "metadata": {},
   "source": [
    "En JN tenemos `modo comando` y `modo edición`.\n",
    "\n",
    "- El `modo edición` sirve para editar celdas\n",
    "- El `modo comando` sirve para usar comandos en el JN"
   ]
  },
  {
   "cell_type": "markdown",
   "id": "08e07db3",
   "metadata": {},
   "source": [
    "Esto es una celda Markdown"
   ]
  },
  {
   "cell_type": "code",
   "execution_count": 7,
   "id": "cdc12d25",
   "metadata": {},
   "outputs": [],
   "source": [
    "# Esto es una celda de código\n",
    "# Yo soy un comentario"
   ]
  },
  {
   "cell_type": "markdown",
   "id": "157b7951",
   "metadata": {},
   "source": [
    "Escribamos algo de código para recordar"
   ]
  },
  {
   "cell_type": "code",
   "execution_count": 5,
   "id": "dc0462dc",
   "metadata": {},
   "outputs": [
    {
     "data": {
      "text/plain": [
       "9"
      ]
     },
     "execution_count": 5,
     "metadata": {},
     "output_type": "execute_result"
    }
   ],
   "source": [
    "var_1 = 4\n",
    "var_2 = 5\n",
    "var_1 + var_2"
   ]
  },
  {
   "cell_type": "code",
   "execution_count": 6,
   "id": "1ad7fb12",
   "metadata": {},
   "outputs": [
    {
     "name": "stdout",
     "output_type": "stream",
     "text": [
      "4 5\n"
     ]
    }
   ],
   "source": [
    "print(var_1, var_2)"
   ]
  }
 ],
 "metadata": {
  "kernelspec": {
   "display_name": "Python 3",
   "language": "python",
   "name": "python3"
  },
  "language_info": {
   "codemirror_mode": {
    "name": "ipython",
    "version": 3
   },
   "file_extension": ".py",
   "mimetype": "text/x-python",
   "name": "python",
   "nbconvert_exporter": "python",
   "pygments_lexer": "ipython3",
   "version": "3.13.3"
  }
 },
 "nbformat": 4,
 "nbformat_minor": 5
}
