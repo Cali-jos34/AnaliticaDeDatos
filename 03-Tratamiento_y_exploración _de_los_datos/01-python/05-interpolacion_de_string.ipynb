{
 "cells": [
  {
   "cell_type": "markdown",
   "id": "8c23c5d8",
   "metadata": {},
   "source": [
    "## Interpolación \n",
    "\n",
    "### Objetivos:\n",
    "    - Aprender a imprimir string\n",
    "    - Aprender a interpolar variables dentro ed strings\n",
    "\n",
    "---\n",
    "### Desarrollo\n",
    "\n",
    "Podemos hacer anotaciones en outputs de nuestro codigo de esta manera:"
   ]
  },
  {
   "cell_type": "code",
   "execution_count": 27,
   "id": "c167d3b7",
   "metadata": {},
   "outputs": [
    {
     "name": "stdout",
     "output_type": "stream",
     "text": [
      "Suma de var_1 y var_2\n",
      "34.3\n"
     ]
    }
   ],
   "source": [
    "var_1 = 15.3\n",
    "var_2 = 23-4\n",
    "\n",
    "print(\"Suma de var_1 y var_2\")\n",
    "print ( var_1 + var_2)"
   ]
  },
  {
   "cell_type": "markdown",
   "id": "4f323c18",
   "metadata": {},
   "source": [
    "Pero a veces resulta necesario o deseable interpolar el valor de la variable dentro de dicho string. Para esto utilizamos las llamadas `f-strings`. El formato de una `f-strings` es el siguiente:\n",
    "\n",
    "`f\"Esta es texto {esto_es_una_variable} esto es más texto\"`\n",
    "\n",
    "Escribiendo una `f` antes de las comillas le indicamos a Python que lo que ponga dentro de las llaves ({}) será código de Python. En este caso, una variable asignada previamente.\n",
    "\n",
    "Ahora podemos hacer lo siguiente:"
   ]
  },
  {
   "cell_type": "code",
   "execution_count": 28,
   "id": "abc80357",
   "metadata": {},
   "outputs": [
    {
     "name": "stdout",
     "output_type": "stream",
     "text": [
      "La suma de  43 y 24.3 es: 67.3\n"
     ]
    }
   ],
   "source": [
    "var_3 = 43\n",
    "var_4 = 24.3\n",
    "suma = var_3 + var_4\n",
    "\n",
    "print(f'La suma de  {var_3} y {var_4} es: {suma}')"
   ]
  },
  {
   "cell_type": "code",
   "execution_count": 29,
   "id": "95372839",
   "metadata": {},
   "outputs": [
    {
     "name": "stdout",
     "output_type": "stream",
     "text": [
      "El nombre del programa es: tres cerditos y la suma de  12.0 y 34.0 es: 46.0\n"
     ]
    }
   ],
   "source": [
    "nombre_programa = input('Introduce el nombre del programa')\n",
    "var_3 = float(input('Introduce el primer valor'))\n",
    "var_4 = float(input('Introduce el segundo valor'))\n",
    "\n",
    "suma = var_3 + var_4\n",
    "\n",
    "print(f'El nombre del programa es: {nombre_programa} y la suma de  {var_3} y {var_4} es: {suma}')"
   ]
  },
  {
   "cell_type": "code",
   "execution_count": 30,
   "id": "ab5b2249",
   "metadata": {},
   "outputs": [],
   "source": [
    "def sumar (numero_1, numero_2): \n",
    "    return numero_1 + numero_2"
   ]
  },
  {
   "cell_type": "code",
   "execution_count": 31,
   "id": "2029e9f9",
   "metadata": {},
   "outputs": [],
   "source": [
    "def solicitarValor ():\n",
    "    return float(input('Introduce el primer valor'))\n",
    "\n",
    "    "
   ]
  },
  {
   "cell_type": "code",
   "execution_count": 33,
   "id": "197269b2",
   "metadata": {},
   "outputs": [
    {
     "name": "stdout",
     "output_type": "stream",
     "text": [
      "46.0\n"
     ]
    }
   ],
   "source": [
    "var_3 = solicitarValor ()\n",
    "var_4 = solicitarValor ()\n",
    "\n",
    "suma = sumar(var_3, var_4)\n",
    "\n",
    "print (suma)"
   ]
  }
 ],
 "metadata": {
  "kernelspec": {
   "display_name": "Python 3",
   "language": "python",
   "name": "python3"
  },
  "language_info": {
   "codemirror_mode": {
    "name": "ipython",
    "version": 3
   },
   "file_extension": ".py",
   "mimetype": "text/x-python",
   "name": "python",
   "nbconvert_exporter": "python",
   "pygments_lexer": "ipython3",
   "version": "3.13.3"
  }
 },
 "nbformat": 4,
 "nbformat_minor": 5
}
