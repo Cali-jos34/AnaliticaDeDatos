{
 "cells": [
  {
   "cell_type": "markdown",
   "id": "cc5c4fee",
   "metadata": {},
   "source": [
    "# Manipulación y Lectura de Datos en Pandas\n",
    "\n",
    "## ¿Para qué sirve?\n",
    "\n",
    "La carga y lectura de datos en Pandas sirve para manipulaar datos fácilmente dentro de Python. Es uno de los datos o cualquier proceso relacionado con bases de datos y archivos.\n",
    "\n",
    "\n",
    ".csv (Valores separados por comas)\n",
    ".xlsx (Excel)\n",
    ".json\n",
    ".sql\n",
    ".txt"
   ]
  },
  {
   "cell_type": "code",
   "execution_count": null,
   "id": "63b4d3af",
   "metadata": {},
   "outputs": [],
   "source": [
    "import pandas as pd\n",
    "\n",
    "df = pd.read_csv('./linkedin-jobs-usa-modificado.csv')\n"
   ]
  },
  {
   "cell_type": "markdown",
   "id": "1b9688f8",
   "metadata": {},
   "source": [
    "### Exploración: comandos o Metodos, `head()`, `info()`, `desccribe`, `dtype` y `shape`"
   ]
  },
  {
   "cell_type": "code",
   "execution_count": null,
   "id": "6bbd257a",
   "metadata": {},
   "outputs": [],
   "source": [
    "print (df.head(20))"
   ]
  },
  {
   "cell_type": "code",
   "execution_count": null,
   "id": "7e8f2874",
   "metadata": {},
   "outputs": [],
   "source": [
    "df.info()"
   ]
  },
  {
   "cell_type": "code",
   "execution_count": null,
   "id": "bd664b70",
   "metadata": {},
   "outputs": [],
   "source": [
    "df.describe()"
   ]
  },
  {
   "cell_type": "code",
   "execution_count": null,
   "id": "04a23375",
   "metadata": {},
   "outputs": [],
   "source": [
    "df['salary_float'].median()"
   ]
  },
  {
   "cell_type": "code",
   "execution_count": null,
   "id": "d68168cd",
   "metadata": {},
   "outputs": [],
   "source": [
    "# Permite visualizar los tipos de datos de las columnas\n",
    "df.dtypes()"
   ]
  },
  {
   "cell_type": "code",
   "execution_count": null,
   "id": "883f7a03",
   "metadata": {},
   "outputs": [],
   "source": [
    "#Muestra el tipo de dato de cada columna\n",
    "df.shape\n",
    "df.shape[0] #columnas\n",
    "df.shape[1] #filas"
   ]
  },
  {
   "cell_type": "code",
   "execution_count": null,
   "id": "a6647c6b",
   "metadata": {},
   "outputs": [],
   "source": [
    "# Muestar las ultimas filas del dataset\n",
    "df.tail(10)"
   ]
  },
  {
   "cell_type": "code",
   "execution_count": null,
   "id": "e3ccfab9",
   "metadata": {},
   "outputs": [],
   "source": [
    "# Muestra en lista de todas las columnas\n",
    "df.columns"
   ]
  },
  {
   "cell_type": "code",
   "execution_count": null,
   "id": "4a888784",
   "metadata": {},
   "outputs": [],
   "source": [
    "# Muestra en donde empieza y donde termina\n",
    "df.index"
   ]
  },
  {
   "cell_type": "markdown",
   "id": "367ef9e4",
   "metadata": {},
   "source": [
    "# Selección y Filtrado de Datos"
   ]
  },
  {
   "cell_type": "code",
   "execution_count": null,
   "id": "e8fcd777",
   "metadata": {},
   "outputs": [],
   "source": [
    "df['onsite_remote'] == 'remote'"
   ]
  },
  {
   "cell_type": "code",
   "execution_count": null,
   "id": "f22f9378",
   "metadata": {},
   "outputs": [],
   "source": [
    "df[(df['Company'] == 'Amazon') & (df['onsite_remote'] == 'remote')]"
   ]
  }
 ],
 "metadata": {
  "kernelspec": {
   "display_name": "Python 3",
   "language": "python",
   "name": "python3"
  },
  "language_info": {
   "codemirror_mode": {
    "name": "ipython",
    "version": 3
   },
   "file_extension": ".py",
   "mimetype": "text/x-python",
   "name": "python",
   "nbconvert_exporter": "python",
   "pygments_lexer": "ipython3",
   "version": "undefined.undefined.undefined"
  }
 },
 "nbformat": 4,
 "nbformat_minor": 5
}
