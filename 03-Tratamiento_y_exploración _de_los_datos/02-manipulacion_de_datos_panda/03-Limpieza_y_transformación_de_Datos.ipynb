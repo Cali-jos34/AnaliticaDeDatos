{
 "cells": [
  {
   "cell_type": "markdown",
   "id": "3d7df48f",
   "metadata": {},
   "source": [
    "# Limpieza y transformación de datos"
   ]
  },
  {
   "cell_type": "code",
   "execution_count": 1,
   "id": "e3c81504",
   "metadata": {},
   "outputs": [],
   "source": [
    "import pandas as pd\n",
    "import numpy as np\n",
    "import matplotlib.pyplot as plt"
   ]
  },
  {
   "cell_type": "code",
   "execution_count": null,
   "id": "9e9185ca",
   "metadata": {},
   "outputs": [],
   "source": [
    "salaries = pd.read_csv(\"./dataset/)"
   ]
  },
  {
   "cell_type": "markdown",
   "id": "b130467b",
   "metadata": {},
   "source": [
    "## Tratamiento de duplicados"
   ]
  },
  {
   "cell_type": "code",
   "execution_count": null,
   "id": "09fcfa3f",
   "metadata": {},
   "outputs": [],
   "source": [
    "salaries.drop_duplicates()"
   ]
  },
  {
   "cell_type": "code",
   "execution_count": null,
   "id": "03f4b42c",
   "metadata": {},
   "outputs": [],
   "source": [
    "salaries_limpieza = salaries_limpieza.drop_duplicates()"
   ]
  },
  {
   "cell_type": "markdown",
   "id": "504e5ad1",
   "metadata": {},
   "source": [
    "## Tratamiento de valores nulos NaN"
   ]
  },
  {
   "cell_type": "code",
   "execution_count": null,
   "id": "0ff0c46f",
   "metadata": {},
   "outputs": [],
   "source": [
    "salaries_limpieza.isna()"
   ]
  },
  {
   "cell_type": "code",
   "execution_count": null,
   "id": "921684e7",
   "metadata": {},
   "outputs": [],
   "source": [
    "print(f'Valores NaN por columna {salaries_limpieza.isna()}')"
   ]
  },
  {
   "cell_type": "code",
   "execution_count": null,
   "id": "9fdc283b",
   "metadata": {},
   "outputs": [],
   "source": []
  },
  {
   "cell_type": "code",
   "execution_count": null,
   "id": "36a2f853",
   "metadata": {},
   "outputs": [],
   "source": [
    "df_sin_nulos.head()"
   ]
  },
  {
   "cell_type": "code",
   "execution_count": null,
   "id": "86807e3a",
   "metadata": {},
   "outputs": [],
   "source": [
    "df_sin_nulos['salary'].head()"
   ]
  },
  {
   "cell_type": "code",
   "execution_count": null,
   "id": "a0b769f0",
   "metadata": {},
   "outputs": [],
   "source": [
    "df_sin_nulos_columnas = salaries.dropna(axis=1, how='any')"
   ]
  },
  {
   "cell_type": "markdown",
   "id": "51608d70",
   "metadata": {},
   "source": [
    "## Transformación de datos\n",
    "\n",
    "### 2da Opción:\n",
    "Reemplazar NaNs por la media"
   ]
  },
  {
   "cell_type": "code",
   "execution_count": null,
   "id": "653a1019",
   "metadata": {},
   "outputs": [],
   "source": [
    "## Este código toma una columna 'salary' que contiene valores de salario en formato de cadena, \n",
    "## elimina cualquier caracter no numérico, extrae los dígitos y convierte la columna resultante en valores numéricos de tipo float. \n",
    "# El resultado se almacena en una nueva columna llamada 'salary_numeric'. \n",
    "# rEsto es útil cuando la columna 'salary' inicial contiene caracteres no numéricos y se desea trabajar con los salarios como valores numéricos.\n",
    "\n",
    "df_sin_nulos['salary_numeric'] = df_sin_nulos['salary'].replace('[^\\d.]', '', regex=True).str.extract('(\\d+)').astype(float)"
   ]
  },
  {
   "cell_type": "code",
   "execution_count": null,
   "id": "7eb08121",
   "metadata": {},
   "outputs": [],
   "source": [
    "import re\n",
    "\n",
    "# Extrae el primer número válido (entero o decimal) de cada celda y lo convierte a float\n",
    "df_sin_nulos['salary_numeric'] = df_sin_nulos['salary'].astype(str).apply(\n",
    "    lambda x: float(re.search(r'\\d+(?:\\.\\d+)?', x).group()) if re.search(r'\\d+(?:\\.\\d+)?', x) else None\n",
    ")"
   ]
  },
  {
   "cell_type": "code",
   "execution_count": null,
   "id": "8b357e51",
   "metadata": {},
   "outputs": [],
   "source": [
    "df_sin_nulos['salary_numeric']\n",
    "\n",
    "df_sin_nulos.dtype\n",
    "df_sin_nulos.info\n",
    "\n"
   ]
  }
 ],
 "metadata": {
  "kernelspec": {
   "display_name": "Python 3",
   "language": "python",
   "name": "python3"
  },
  "language_info": {
   "codemirror_mode": {
    "name": "ipython",
    "version": 3
   },
   "file_extension": ".py",
   "mimetype": "text/x-python",
   "name": "python",
   "nbconvert_exporter": "python",
   "pygments_lexer": "ipython3",
   "version": "3.13.6"
  }
 },
 "nbformat": 4,
 "nbformat_minor": 5
}
