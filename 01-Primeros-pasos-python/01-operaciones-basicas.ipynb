{
 "cells": [
  {
   "cell_type": "markdown",
   "id": "cfd9d830",
   "metadata": {},
   "source": [
    "# Operaciones basicas en Python"
   ]
  },
  {
   "cell_type": "markdown",
   "id": "9ae5971d",
   "metadata": {},
   "source": [
    "## Declaración de variables y asignación de datos\n",
    "\n",
    "** Se describen los tipos de vaariables existentes en python y como imprimirlos **"
   ]
  },
  {
   "cell_type": "code",
   "execution_count": null,
   "id": "d1b69b76",
   "metadata": {},
   "outputs": [],
   "source": [
    "# Declaracion de variables y tipos\n",
    "\n",
    "a = 1 # Variable de tipo entero (int)\n",
    "b = 2.3 # Variable de tipo flotante (float)\n",
    "c= True # Variable de tipo boolean\n",
    "d = False # Variable de tipo boolean\n",
    "e = \"Hola Mundo\" # Variable de tipo cadena\n",
    "f = 'Hola entornos' # Variable de tipo cadena\n"
   ]
  }
 ],
 "metadata": {
  "kernelspec": {
   "display_name": "Python 3",
   "language": "python",
   "name": "python3"
  },
  "language_info": {
   "name": "python",
   "version": "3.13.3"
  }
 },
 "nbformat": 4,
 "nbformat_minor": 5
}
